{
 "cells": [
  {
   "cell_type": "markdown",
   "id": "23cc2b59-3af1-443c-8ca3-32fc18db33ef",
   "metadata": {},
   "source": [
    "# 导包"
   ]
  },
  {
   "cell_type": "code",
   "execution_count": 1,
   "id": "642c25ed-a2a6-465a-9c16-6b5d9d797afe",
   "metadata": {},
   "outputs": [],
   "source": [
    "from datasets import Dataset, load_dataset\n",
    "from transformers import AutoTokenizer, AutoModelForCausalLM, DataCollatorForSeq2Seq, TrainingArguments, Trainer"
   ]
  },
  {
   "cell_type": "markdown",
   "id": "75f27563-bf3b-4d8e-985f-f672a7aeaad8",
   "metadata": {},
   "source": [
    "# 加载数据"
   ]
  },
  {
   "cell_type": "code",
   "execution_count": 2,
   "id": "25bb53c3-94f0-4d67-a6b6-ca22dcb5d921",
   "metadata": {},
   "outputs": [
    {
     "data": {
      "text/plain": [
       "Dataset({\n",
       "    features: ['id', 'question', 'answer'],\n",
       "    num_rows: 27320\n",
       "})"
      ]
     },
     "execution_count": 2,
     "metadata": {},
     "output_type": "execute_result"
    }
   ],
   "source": [
    "dataset = load_dataset(\"csv\", data_files=\"./问答.csv\", split=\"train\")\n",
    "dataset = dataset.filter(lambda x: x[\"answer\"] is not None)\n",
    "dataset"
   ]
  },
  {
   "cell_type": "code",
   "execution_count": 3,
   "id": "cb2bf7e3-720f-4734-a8cd-ea71432f360d",
   "metadata": {},
   "outputs": [
    {
     "data": {
      "text/plain": [
       "DatasetDict({\n",
       "    train: Dataset({\n",
       "        features: ['id', 'question', 'answer'],\n",
       "        num_rows: 24588\n",
       "    })\n",
       "    test: Dataset({\n",
       "        features: ['id', 'question', 'answer'],\n",
       "        num_rows: 2732\n",
       "    })\n",
       "})"
      ]
     },
     "execution_count": 3,
     "metadata": {},
     "output_type": "execute_result"
    }
   ],
   "source": [
    "datasets = dataset.train_test_split(test_size=0.1)\n",
    "datasets"
   ]
  },
  {
   "cell_type": "code",
   "execution_count": 4,
   "id": "4ddad307-107c-466f-9e93-01025f45fc79",
   "metadata": {},
   "outputs": [
    {
     "data": {
      "text/plain": [
       "{'id': [19989, 18114],\n",
       " 'question': ['患反流性食管炎三年没好寻求治疗  ', '突发性耳聋耳鸣的诊断方法  '],\n",
       " 'answer': ['需要进行腹腔镜胃底折叠手术，贲门狭窄的部分需要通过球囊进行扩张。 二炮总医院-胃食管反流病中心-吴继敏副主任医师  查看更多答案&gt;&gt;',\n",
       "  '你好，如果是突发性耳聋一定要第一时间去医院治疗，越早越好。']}"
      ]
     },
     "execution_count": 4,
     "metadata": {},
     "output_type": "execute_result"
    }
   ],
   "source": [
    "datasets['train'][:2]"
   ]
  },
  {
   "cell_type": "markdown",
   "id": "560d3afb-86bf-437e-97a3-c7decbfdabcb",
   "metadata": {},
   "source": [
    "# 数据集预处理"
   ]
  },
  {
   "cell_type": "code",
   "execution_count": 5,
   "id": "119d48ad-f04e-42d6-ad22-c891639fd26b",
   "metadata": {},
   "outputs": [
    {
     "name": "stderr",
     "output_type": "stream",
     "text": [
      "Special tokens have been added in the vocabulary, make sure the associated word embeddings are fine-tuned or trained.\n"
     ]
    },
    {
     "data": {
      "text/plain": [
       "ChatGLM4Tokenizer(name_or_path='./glm-4-9b-chat', vocab_size=151329, model_max_length=128000, is_fast=False, padding_side='left', truncation_side='right', special_tokens={'eos_token': '<|endoftext|>', 'pad_token': '<|endoftext|>', 'additional_special_tokens': ['<|endoftext|>', '[MASK]', '[gMASK]', '[sMASK]', '<sop>', '<eop>', '<|system|>', '<|user|>', '<|assistant|>', '<|observation|>', '<|begin_of_image|>', '<|end_of_image|>', '<|begin_of_video|>', '<|end_of_video|>']}, clean_up_tokenization_spaces=False),  added_tokens_decoder={\n",
       "\t151329: AddedToken(\"<|endoftext|>\", rstrip=False, lstrip=False, single_word=False, normalized=False, special=True),\n",
       "\t151330: AddedToken(\"[MASK]\", rstrip=False, lstrip=False, single_word=False, normalized=False, special=True),\n",
       "\t151331: AddedToken(\"[gMASK]\", rstrip=False, lstrip=False, single_word=False, normalized=False, special=True),\n",
       "\t151332: AddedToken(\"[sMASK]\", rstrip=False, lstrip=False, single_word=False, normalized=False, special=True),\n",
       "\t151333: AddedToken(\"<sop>\", rstrip=False, lstrip=False, single_word=False, normalized=False, special=True),\n",
       "\t151334: AddedToken(\"<eop>\", rstrip=False, lstrip=False, single_word=False, normalized=False, special=True),\n",
       "\t151335: AddedToken(\"<|system|>\", rstrip=False, lstrip=False, single_word=False, normalized=False, special=True),\n",
       "\t151336: AddedToken(\"<|user|>\", rstrip=False, lstrip=False, single_word=False, normalized=False, special=True),\n",
       "\t151337: AddedToken(\"<|assistant|>\", rstrip=False, lstrip=False, single_word=False, normalized=False, special=True),\n",
       "\t151338: AddedToken(\"<|observation|>\", rstrip=False, lstrip=False, single_word=False, normalized=False, special=True),\n",
       "\t151339: AddedToken(\"<|begin_of_image|>\", rstrip=False, lstrip=False, single_word=False, normalized=False, special=True),\n",
       "\t151340: AddedToken(\"<|end_of_image|>\", rstrip=False, lstrip=False, single_word=False, normalized=False, special=True),\n",
       "\t151341: AddedToken(\"<|begin_of_video|>\", rstrip=False, lstrip=False, single_word=False, normalized=False, special=True),\n",
       "\t151342: AddedToken(\"<|end_of_video|>\", rstrip=False, lstrip=False, single_word=False, normalized=False, special=True),\n",
       "}"
      ]
     },
     "execution_count": 5,
     "metadata": {},
     "output_type": "execute_result"
    }
   ],
   "source": [
    "tokenizer = AutoTokenizer.from_pretrained(\"./glm-4-9b-chat\", trust_remote_code=True)\n",
    "tokenizer"
   ]
  },
  {
   "cell_type": "code",
   "execution_count": 6,
   "id": "53aca134-6a2b-4ae1-a6ba-a4556e0c272a",
   "metadata": {},
   "outputs": [],
   "source": [
    "def process_func(example):\n",
    "    MAX_LENGTH = 256\n",
    "    input_ids, attention_mask, labels = [], [], []\n",
    "    instruction = example[\"question\"].strip()     # query\n",
    "    instruction = tokenizer.apply_chat_template([{\"role\": \"user\", \"content\": instruction}],\n",
    "                                       add_generation_prompt=True,\n",
    "                                       tokenize=True,\n",
    "                                       return_tensors=\"pt\",\n",
    "                                       return_dict=True\n",
    "                                       )      # '[gMASK] <sop> <|user|> \\nquery <|assistant|>'\n",
    "    \n",
    "    response = tokenizer(\"\\n\" + example[\"answer\"], add_special_tokens=False)        # \\n response, 缺少eos token\n",
    "    input_ids = instruction[\"input_ids\"][0].numpy().tolist() + response[\"input_ids\"] + [tokenizer.eos_token_id]\n",
    "    attention_mask = instruction[\"attention_mask\"][0].numpy().tolist() + response[\"attention_mask\"] + [1]\n",
    "    labels = [-100] * len(instruction[\"input_ids\"][0].numpy().tolist()) + response[\"input_ids\"] + [tokenizer.eos_token_id]\n",
    "    if len(input_ids) > MAX_LENGTH:\n",
    "        input_ids = input_ids[:MAX_LENGTH]\n",
    "        attention_mask = attention_mask[:MAX_LENGTH]\n",
    "        labels = labels[:MAX_LENGTH]\n",
    "    return {\n",
    "        \"input_ids\": input_ids,\n",
    "        \"attention_mask\": attention_mask,\n",
    "        \"labels\": labels\n",
    "    }"
   ]
  },
  {
   "cell_type": "code",
   "execution_count": 7,
   "id": "8e790211-8da9-4d06-bfe8-e89d3329f700",
   "metadata": {},
   "outputs": [
    {
     "data": {
      "application/vnd.jupyter.widget-view+json": {
       "model_id": "6fcc9792780c4c5da937587eb4a1388d",
       "version_major": 2,
       "version_minor": 0
      },
      "text/plain": [
       "Map:   0%|          | 0/24588 [00:00<?, ? examples/s]"
      ]
     },
     "metadata": {},
     "output_type": "display_data"
    },
    {
     "data": {
      "application/vnd.jupyter.widget-view+json": {
       "model_id": "e138f191eb044e56ac981d5257cfcecd",
       "version_major": 2,
       "version_minor": 0
      },
      "text/plain": [
       "Map:   0%|          | 0/2732 [00:00<?, ? examples/s]"
      ]
     },
     "metadata": {},
     "output_type": "display_data"
    },
    {
     "data": {
      "text/plain": [
       "Dataset({\n",
       "    features: ['input_ids', 'attention_mask', 'labels'],\n",
       "    num_rows: 24588\n",
       "})"
      ]
     },
     "execution_count": 7,
     "metadata": {},
     "output_type": "execute_result"
    }
   ],
   "source": [
    "tokenized_ds = datasets['train'].map(process_func, remove_columns=['id', 'question', 'answer'])\n",
    "tokenized_ts = datasets['test'].map(process_func, remove_columns=['id', 'question', 'answer'])\n",
    "tokenized_ds"
   ]
  },
  {
   "cell_type": "code",
   "execution_count": 8,
   "id": "a157470b-b31a-4c04-8f09-a5ab997b90a4",
   "metadata": {},
   "outputs": [
    {
     "data": {
      "text/plain": [
       "'[gMASK] <sop> <|user|> \\n突发性耳聋耳鸣的诊断方法 <|assistant|> \\n你好，如果是突发性耳聋一定要第一时间去医院治疗，越早越好。 <|endoftext|>'"
      ]
     },
     "execution_count": 8,
     "metadata": {},
     "output_type": "execute_result"
    }
   ],
   "source": [
    "tokenizer.decode(tokenized_ds[1][\"input_ids\"])"
   ]
  },
  {
   "cell_type": "code",
   "execution_count": 9,
   "id": "22362351-3e69-460c-bbb3-c57fbf03d5ea",
   "metadata": {},
   "outputs": [
    {
     "data": {
      "text/plain": [
       "'\\n你好，如果是突发性耳聋一定要第一时间去医院治疗，越早越好。 <|endoftext|>'"
      ]
     },
     "execution_count": 9,
     "metadata": {},
     "output_type": "execute_result"
    }
   ],
   "source": [
    "tokenizer.decode(list(filter(lambda x: x != -100, tokenized_ds[1][\"labels\"])))"
   ]
  },
  {
   "cell_type": "markdown",
   "id": "0fad1333-229a-43fc-a0ee-5f9ef27776ee",
   "metadata": {},
   "source": [
    "# 创建模型"
   ]
  },
  {
   "cell_type": "code",
   "execution_count": 10,
   "id": "2bc85f85-4611-47a5-af51-d9337b968968",
   "metadata": {},
   "outputs": [
    {
     "data": {
      "application/vnd.jupyter.widget-view+json": {
       "model_id": "c34ad797b13746798f9f589a70da3b51",
       "version_major": 2,
       "version_minor": 0
      },
      "text/plain": [
       "Loading checkpoint shards:   0%|          | 0/10 [00:00<?, ?it/s]"
      ]
     },
     "metadata": {},
     "output_type": "display_data"
    }
   ],
   "source": [
    "import torch\n",
    "model = AutoModelForCausalLM.from_pretrained(\"./glm-4-9b-chat\", trust_remote_code=True, low_cpu_mem_usage=True, torch_dtype=torch.bfloat16, device_map=\"auto\")"
   ]
  },
  {
   "cell_type": "code",
   "execution_count": 11,
   "id": "3887f830-0134-432b-a255-02c238b581fa",
   "metadata": {},
   "outputs": [
    {
     "name": "stdout",
     "output_type": "stream",
     "text": [
      "transformer.embedding.word_embeddings.weight\n",
      "transformer.encoder.layers.0.input_layernorm.weight\n",
      "transformer.encoder.layers.0.self_attention.query_key_value.weight\n",
      "transformer.encoder.layers.0.self_attention.query_key_value.bias\n",
      "transformer.encoder.layers.0.self_attention.dense.weight\n",
      "transformer.encoder.layers.0.post_attention_layernorm.weight\n",
      "transformer.encoder.layers.0.mlp.dense_h_to_4h.weight\n",
      "transformer.encoder.layers.0.mlp.dense_4h_to_h.weight\n",
      "transformer.encoder.layers.1.input_layernorm.weight\n",
      "transformer.encoder.layers.1.self_attention.query_key_value.weight\n",
      "transformer.encoder.layers.1.self_attention.query_key_value.bias\n",
      "transformer.encoder.layers.1.self_attention.dense.weight\n",
      "transformer.encoder.layers.1.post_attention_layernorm.weight\n",
      "transformer.encoder.layers.1.mlp.dense_h_to_4h.weight\n",
      "transformer.encoder.layers.1.mlp.dense_4h_to_h.weight\n",
      "transformer.encoder.layers.2.input_layernorm.weight\n",
      "transformer.encoder.layers.2.self_attention.query_key_value.weight\n",
      "transformer.encoder.layers.2.self_attention.query_key_value.bias\n",
      "transformer.encoder.layers.2.self_attention.dense.weight\n",
      "transformer.encoder.layers.2.post_attention_layernorm.weight\n",
      "transformer.encoder.layers.2.mlp.dense_h_to_4h.weight\n",
      "transformer.encoder.layers.2.mlp.dense_4h_to_h.weight\n",
      "transformer.encoder.layers.3.input_layernorm.weight\n",
      "transformer.encoder.layers.3.self_attention.query_key_value.weight\n",
      "transformer.encoder.layers.3.self_attention.query_key_value.bias\n",
      "transformer.encoder.layers.3.self_attention.dense.weight\n",
      "transformer.encoder.layers.3.post_attention_layernorm.weight\n",
      "transformer.encoder.layers.3.mlp.dense_h_to_4h.weight\n",
      "transformer.encoder.layers.3.mlp.dense_4h_to_h.weight\n",
      "transformer.encoder.layers.4.input_layernorm.weight\n",
      "transformer.encoder.layers.4.self_attention.query_key_value.weight\n",
      "transformer.encoder.layers.4.self_attention.query_key_value.bias\n",
      "transformer.encoder.layers.4.self_attention.dense.weight\n",
      "transformer.encoder.layers.4.post_attention_layernorm.weight\n",
      "transformer.encoder.layers.4.mlp.dense_h_to_4h.weight\n",
      "transformer.encoder.layers.4.mlp.dense_4h_to_h.weight\n",
      "transformer.encoder.layers.5.input_layernorm.weight\n",
      "transformer.encoder.layers.5.self_attention.query_key_value.weight\n",
      "transformer.encoder.layers.5.self_attention.query_key_value.bias\n",
      "transformer.encoder.layers.5.self_attention.dense.weight\n",
      "transformer.encoder.layers.5.post_attention_layernorm.weight\n",
      "transformer.encoder.layers.5.mlp.dense_h_to_4h.weight\n",
      "transformer.encoder.layers.5.mlp.dense_4h_to_h.weight\n",
      "transformer.encoder.layers.6.input_layernorm.weight\n",
      "transformer.encoder.layers.6.self_attention.query_key_value.weight\n",
      "transformer.encoder.layers.6.self_attention.query_key_value.bias\n",
      "transformer.encoder.layers.6.self_attention.dense.weight\n",
      "transformer.encoder.layers.6.post_attention_layernorm.weight\n",
      "transformer.encoder.layers.6.mlp.dense_h_to_4h.weight\n",
      "transformer.encoder.layers.6.mlp.dense_4h_to_h.weight\n",
      "transformer.encoder.layers.7.input_layernorm.weight\n",
      "transformer.encoder.layers.7.self_attention.query_key_value.weight\n",
      "transformer.encoder.layers.7.self_attention.query_key_value.bias\n",
      "transformer.encoder.layers.7.self_attention.dense.weight\n",
      "transformer.encoder.layers.7.post_attention_layernorm.weight\n",
      "transformer.encoder.layers.7.mlp.dense_h_to_4h.weight\n",
      "transformer.encoder.layers.7.mlp.dense_4h_to_h.weight\n",
      "transformer.encoder.layers.8.input_layernorm.weight\n",
      "transformer.encoder.layers.8.self_attention.query_key_value.weight\n",
      "transformer.encoder.layers.8.self_attention.query_key_value.bias\n",
      "transformer.encoder.layers.8.self_attention.dense.weight\n",
      "transformer.encoder.layers.8.post_attention_layernorm.weight\n",
      "transformer.encoder.layers.8.mlp.dense_h_to_4h.weight\n",
      "transformer.encoder.layers.8.mlp.dense_4h_to_h.weight\n",
      "transformer.encoder.layers.9.input_layernorm.weight\n",
      "transformer.encoder.layers.9.self_attention.query_key_value.weight\n",
      "transformer.encoder.layers.9.self_attention.query_key_value.bias\n",
      "transformer.encoder.layers.9.self_attention.dense.weight\n",
      "transformer.encoder.layers.9.post_attention_layernorm.weight\n",
      "transformer.encoder.layers.9.mlp.dense_h_to_4h.weight\n",
      "transformer.encoder.layers.9.mlp.dense_4h_to_h.weight\n",
      "transformer.encoder.layers.10.input_layernorm.weight\n",
      "transformer.encoder.layers.10.self_attention.query_key_value.weight\n",
      "transformer.encoder.layers.10.self_attention.query_key_value.bias\n",
      "transformer.encoder.layers.10.self_attention.dense.weight\n",
      "transformer.encoder.layers.10.post_attention_layernorm.weight\n",
      "transformer.encoder.layers.10.mlp.dense_h_to_4h.weight\n",
      "transformer.encoder.layers.10.mlp.dense_4h_to_h.weight\n",
      "transformer.encoder.layers.11.input_layernorm.weight\n",
      "transformer.encoder.layers.11.self_attention.query_key_value.weight\n",
      "transformer.encoder.layers.11.self_attention.query_key_value.bias\n",
      "transformer.encoder.layers.11.self_attention.dense.weight\n",
      "transformer.encoder.layers.11.post_attention_layernorm.weight\n",
      "transformer.encoder.layers.11.mlp.dense_h_to_4h.weight\n",
      "transformer.encoder.layers.11.mlp.dense_4h_to_h.weight\n",
      "transformer.encoder.layers.12.input_layernorm.weight\n",
      "transformer.encoder.layers.12.self_attention.query_key_value.weight\n",
      "transformer.encoder.layers.12.self_attention.query_key_value.bias\n",
      "transformer.encoder.layers.12.self_attention.dense.weight\n",
      "transformer.encoder.layers.12.post_attention_layernorm.weight\n",
      "transformer.encoder.layers.12.mlp.dense_h_to_4h.weight\n",
      "transformer.encoder.layers.12.mlp.dense_4h_to_h.weight\n",
      "transformer.encoder.layers.13.input_layernorm.weight\n",
      "transformer.encoder.layers.13.self_attention.query_key_value.weight\n",
      "transformer.encoder.layers.13.self_attention.query_key_value.bias\n",
      "transformer.encoder.layers.13.self_attention.dense.weight\n",
      "transformer.encoder.layers.13.post_attention_layernorm.weight\n",
      "transformer.encoder.layers.13.mlp.dense_h_to_4h.weight\n",
      "transformer.encoder.layers.13.mlp.dense_4h_to_h.weight\n",
      "transformer.encoder.layers.14.input_layernorm.weight\n",
      "transformer.encoder.layers.14.self_attention.query_key_value.weight\n",
      "transformer.encoder.layers.14.self_attention.query_key_value.bias\n",
      "transformer.encoder.layers.14.self_attention.dense.weight\n",
      "transformer.encoder.layers.14.post_attention_layernorm.weight\n",
      "transformer.encoder.layers.14.mlp.dense_h_to_4h.weight\n",
      "transformer.encoder.layers.14.mlp.dense_4h_to_h.weight\n",
      "transformer.encoder.layers.15.input_layernorm.weight\n",
      "transformer.encoder.layers.15.self_attention.query_key_value.weight\n",
      "transformer.encoder.layers.15.self_attention.query_key_value.bias\n",
      "transformer.encoder.layers.15.self_attention.dense.weight\n",
      "transformer.encoder.layers.15.post_attention_layernorm.weight\n",
      "transformer.encoder.layers.15.mlp.dense_h_to_4h.weight\n",
      "transformer.encoder.layers.15.mlp.dense_4h_to_h.weight\n",
      "transformer.encoder.layers.16.input_layernorm.weight\n",
      "transformer.encoder.layers.16.self_attention.query_key_value.weight\n",
      "transformer.encoder.layers.16.self_attention.query_key_value.bias\n",
      "transformer.encoder.layers.16.self_attention.dense.weight\n",
      "transformer.encoder.layers.16.post_attention_layernorm.weight\n",
      "transformer.encoder.layers.16.mlp.dense_h_to_4h.weight\n",
      "transformer.encoder.layers.16.mlp.dense_4h_to_h.weight\n",
      "transformer.encoder.layers.17.input_layernorm.weight\n",
      "transformer.encoder.layers.17.self_attention.query_key_value.weight\n",
      "transformer.encoder.layers.17.self_attention.query_key_value.bias\n",
      "transformer.encoder.layers.17.self_attention.dense.weight\n",
      "transformer.encoder.layers.17.post_attention_layernorm.weight\n",
      "transformer.encoder.layers.17.mlp.dense_h_to_4h.weight\n",
      "transformer.encoder.layers.17.mlp.dense_4h_to_h.weight\n",
      "transformer.encoder.layers.18.input_layernorm.weight\n",
      "transformer.encoder.layers.18.self_attention.query_key_value.weight\n",
      "transformer.encoder.layers.18.self_attention.query_key_value.bias\n",
      "transformer.encoder.layers.18.self_attention.dense.weight\n",
      "transformer.encoder.layers.18.post_attention_layernorm.weight\n",
      "transformer.encoder.layers.18.mlp.dense_h_to_4h.weight\n",
      "transformer.encoder.layers.18.mlp.dense_4h_to_h.weight\n",
      "transformer.encoder.layers.19.input_layernorm.weight\n",
      "transformer.encoder.layers.19.self_attention.query_key_value.weight\n",
      "transformer.encoder.layers.19.self_attention.query_key_value.bias\n",
      "transformer.encoder.layers.19.self_attention.dense.weight\n",
      "transformer.encoder.layers.19.post_attention_layernorm.weight\n",
      "transformer.encoder.layers.19.mlp.dense_h_to_4h.weight\n",
      "transformer.encoder.layers.19.mlp.dense_4h_to_h.weight\n",
      "transformer.encoder.layers.20.input_layernorm.weight\n",
      "transformer.encoder.layers.20.self_attention.query_key_value.weight\n",
      "transformer.encoder.layers.20.self_attention.query_key_value.bias\n",
      "transformer.encoder.layers.20.self_attention.dense.weight\n",
      "transformer.encoder.layers.20.post_attention_layernorm.weight\n",
      "transformer.encoder.layers.20.mlp.dense_h_to_4h.weight\n",
      "transformer.encoder.layers.20.mlp.dense_4h_to_h.weight\n",
      "transformer.encoder.layers.21.input_layernorm.weight\n",
      "transformer.encoder.layers.21.self_attention.query_key_value.weight\n",
      "transformer.encoder.layers.21.self_attention.query_key_value.bias\n",
      "transformer.encoder.layers.21.self_attention.dense.weight\n",
      "transformer.encoder.layers.21.post_attention_layernorm.weight\n",
      "transformer.encoder.layers.21.mlp.dense_h_to_4h.weight\n",
      "transformer.encoder.layers.21.mlp.dense_4h_to_h.weight\n",
      "transformer.encoder.layers.22.input_layernorm.weight\n",
      "transformer.encoder.layers.22.self_attention.query_key_value.weight\n",
      "transformer.encoder.layers.22.self_attention.query_key_value.bias\n",
      "transformer.encoder.layers.22.self_attention.dense.weight\n",
      "transformer.encoder.layers.22.post_attention_layernorm.weight\n",
      "transformer.encoder.layers.22.mlp.dense_h_to_4h.weight\n",
      "transformer.encoder.layers.22.mlp.dense_4h_to_h.weight\n",
      "transformer.encoder.layers.23.input_layernorm.weight\n",
      "transformer.encoder.layers.23.self_attention.query_key_value.weight\n",
      "transformer.encoder.layers.23.self_attention.query_key_value.bias\n",
      "transformer.encoder.layers.23.self_attention.dense.weight\n",
      "transformer.encoder.layers.23.post_attention_layernorm.weight\n",
      "transformer.encoder.layers.23.mlp.dense_h_to_4h.weight\n",
      "transformer.encoder.layers.23.mlp.dense_4h_to_h.weight\n",
      "transformer.encoder.layers.24.input_layernorm.weight\n",
      "transformer.encoder.layers.24.self_attention.query_key_value.weight\n",
      "transformer.encoder.layers.24.self_attention.query_key_value.bias\n",
      "transformer.encoder.layers.24.self_attention.dense.weight\n",
      "transformer.encoder.layers.24.post_attention_layernorm.weight\n",
      "transformer.encoder.layers.24.mlp.dense_h_to_4h.weight\n",
      "transformer.encoder.layers.24.mlp.dense_4h_to_h.weight\n",
      "transformer.encoder.layers.25.input_layernorm.weight\n",
      "transformer.encoder.layers.25.self_attention.query_key_value.weight\n",
      "transformer.encoder.layers.25.self_attention.query_key_value.bias\n",
      "transformer.encoder.layers.25.self_attention.dense.weight\n",
      "transformer.encoder.layers.25.post_attention_layernorm.weight\n",
      "transformer.encoder.layers.25.mlp.dense_h_to_4h.weight\n",
      "transformer.encoder.layers.25.mlp.dense_4h_to_h.weight\n",
      "transformer.encoder.layers.26.input_layernorm.weight\n",
      "transformer.encoder.layers.26.self_attention.query_key_value.weight\n",
      "transformer.encoder.layers.26.self_attention.query_key_value.bias\n",
      "transformer.encoder.layers.26.self_attention.dense.weight\n",
      "transformer.encoder.layers.26.post_attention_layernorm.weight\n",
      "transformer.encoder.layers.26.mlp.dense_h_to_4h.weight\n",
      "transformer.encoder.layers.26.mlp.dense_4h_to_h.weight\n",
      "transformer.encoder.layers.27.input_layernorm.weight\n",
      "transformer.encoder.layers.27.self_attention.query_key_value.weight\n",
      "transformer.encoder.layers.27.self_attention.query_key_value.bias\n",
      "transformer.encoder.layers.27.self_attention.dense.weight\n",
      "transformer.encoder.layers.27.post_attention_layernorm.weight\n",
      "transformer.encoder.layers.27.mlp.dense_h_to_4h.weight\n",
      "transformer.encoder.layers.27.mlp.dense_4h_to_h.weight\n",
      "transformer.encoder.layers.28.input_layernorm.weight\n",
      "transformer.encoder.layers.28.self_attention.query_key_value.weight\n",
      "transformer.encoder.layers.28.self_attention.query_key_value.bias\n",
      "transformer.encoder.layers.28.self_attention.dense.weight\n",
      "transformer.encoder.layers.28.post_attention_layernorm.weight\n",
      "transformer.encoder.layers.28.mlp.dense_h_to_4h.weight\n",
      "transformer.encoder.layers.28.mlp.dense_4h_to_h.weight\n",
      "transformer.encoder.layers.29.input_layernorm.weight\n",
      "transformer.encoder.layers.29.self_attention.query_key_value.weight\n",
      "transformer.encoder.layers.29.self_attention.query_key_value.bias\n",
      "transformer.encoder.layers.29.self_attention.dense.weight\n",
      "transformer.encoder.layers.29.post_attention_layernorm.weight\n",
      "transformer.encoder.layers.29.mlp.dense_h_to_4h.weight\n",
      "transformer.encoder.layers.29.mlp.dense_4h_to_h.weight\n",
      "transformer.encoder.layers.30.input_layernorm.weight\n",
      "transformer.encoder.layers.30.self_attention.query_key_value.weight\n",
      "transformer.encoder.layers.30.self_attention.query_key_value.bias\n",
      "transformer.encoder.layers.30.self_attention.dense.weight\n",
      "transformer.encoder.layers.30.post_attention_layernorm.weight\n",
      "transformer.encoder.layers.30.mlp.dense_h_to_4h.weight\n",
      "transformer.encoder.layers.30.mlp.dense_4h_to_h.weight\n",
      "transformer.encoder.layers.31.input_layernorm.weight\n",
      "transformer.encoder.layers.31.self_attention.query_key_value.weight\n",
      "transformer.encoder.layers.31.self_attention.query_key_value.bias\n",
      "transformer.encoder.layers.31.self_attention.dense.weight\n",
      "transformer.encoder.layers.31.post_attention_layernorm.weight\n",
      "transformer.encoder.layers.31.mlp.dense_h_to_4h.weight\n",
      "transformer.encoder.layers.31.mlp.dense_4h_to_h.weight\n",
      "transformer.encoder.layers.32.input_layernorm.weight\n",
      "transformer.encoder.layers.32.self_attention.query_key_value.weight\n",
      "transformer.encoder.layers.32.self_attention.query_key_value.bias\n",
      "transformer.encoder.layers.32.self_attention.dense.weight\n",
      "transformer.encoder.layers.32.post_attention_layernorm.weight\n",
      "transformer.encoder.layers.32.mlp.dense_h_to_4h.weight\n",
      "transformer.encoder.layers.32.mlp.dense_4h_to_h.weight\n",
      "transformer.encoder.layers.33.input_layernorm.weight\n",
      "transformer.encoder.layers.33.self_attention.query_key_value.weight\n",
      "transformer.encoder.layers.33.self_attention.query_key_value.bias\n",
      "transformer.encoder.layers.33.self_attention.dense.weight\n",
      "transformer.encoder.layers.33.post_attention_layernorm.weight\n",
      "transformer.encoder.layers.33.mlp.dense_h_to_4h.weight\n",
      "transformer.encoder.layers.33.mlp.dense_4h_to_h.weight\n",
      "transformer.encoder.layers.34.input_layernorm.weight\n",
      "transformer.encoder.layers.34.self_attention.query_key_value.weight\n",
      "transformer.encoder.layers.34.self_attention.query_key_value.bias\n",
      "transformer.encoder.layers.34.self_attention.dense.weight\n",
      "transformer.encoder.layers.34.post_attention_layernorm.weight\n",
      "transformer.encoder.layers.34.mlp.dense_h_to_4h.weight\n",
      "transformer.encoder.layers.34.mlp.dense_4h_to_h.weight\n",
      "transformer.encoder.layers.35.input_layernorm.weight\n",
      "transformer.encoder.layers.35.self_attention.query_key_value.weight\n",
      "transformer.encoder.layers.35.self_attention.query_key_value.bias\n",
      "transformer.encoder.layers.35.self_attention.dense.weight\n",
      "transformer.encoder.layers.35.post_attention_layernorm.weight\n",
      "transformer.encoder.layers.35.mlp.dense_h_to_4h.weight\n",
      "transformer.encoder.layers.35.mlp.dense_4h_to_h.weight\n",
      "transformer.encoder.layers.36.input_layernorm.weight\n",
      "transformer.encoder.layers.36.self_attention.query_key_value.weight\n",
      "transformer.encoder.layers.36.self_attention.query_key_value.bias\n",
      "transformer.encoder.layers.36.self_attention.dense.weight\n",
      "transformer.encoder.layers.36.post_attention_layernorm.weight\n",
      "transformer.encoder.layers.36.mlp.dense_h_to_4h.weight\n",
      "transformer.encoder.layers.36.mlp.dense_4h_to_h.weight\n",
      "transformer.encoder.layers.37.input_layernorm.weight\n",
      "transformer.encoder.layers.37.self_attention.query_key_value.weight\n",
      "transformer.encoder.layers.37.self_attention.query_key_value.bias\n",
      "transformer.encoder.layers.37.self_attention.dense.weight\n",
      "transformer.encoder.layers.37.post_attention_layernorm.weight\n",
      "transformer.encoder.layers.37.mlp.dense_h_to_4h.weight\n",
      "transformer.encoder.layers.37.mlp.dense_4h_to_h.weight\n",
      "transformer.encoder.layers.38.input_layernorm.weight\n",
      "transformer.encoder.layers.38.self_attention.query_key_value.weight\n",
      "transformer.encoder.layers.38.self_attention.query_key_value.bias\n",
      "transformer.encoder.layers.38.self_attention.dense.weight\n",
      "transformer.encoder.layers.38.post_attention_layernorm.weight\n",
      "transformer.encoder.layers.38.mlp.dense_h_to_4h.weight\n",
      "transformer.encoder.layers.38.mlp.dense_4h_to_h.weight\n",
      "transformer.encoder.layers.39.input_layernorm.weight\n",
      "transformer.encoder.layers.39.self_attention.query_key_value.weight\n",
      "transformer.encoder.layers.39.self_attention.query_key_value.bias\n",
      "transformer.encoder.layers.39.self_attention.dense.weight\n",
      "transformer.encoder.layers.39.post_attention_layernorm.weight\n",
      "transformer.encoder.layers.39.mlp.dense_h_to_4h.weight\n",
      "transformer.encoder.layers.39.mlp.dense_4h_to_h.weight\n",
      "transformer.encoder.final_layernorm.weight\n",
      "transformer.output_layer.weight\n"
     ]
    }
   ],
   "source": [
    "for name, param in model.named_parameters():\n",
    "    print(name)"
   ]
  },
  {
   "cell_type": "markdown",
   "id": "26665cd9-3f34-491d-83fd-94ecb565d414",
   "metadata": {},
   "source": [
    "# Lora "
   ]
  },
  {
   "cell_type": "markdown",
   "id": "065ec2d6-02bd-45b2-a4f2-7b94d185af6d",
   "metadata": {},
   "source": [
    "# step1 配置文件"
   ]
  },
  {
   "cell_type": "code",
   "execution_count": 12,
   "id": "b2972f9e-b996-4c7a-a240-edaa4b16559e",
   "metadata": {},
   "outputs": [
    {
     "data": {
      "text/plain": [
       "LoraConfig(peft_type=<PeftType.LORA: 'LORA'>, auto_mapping=None, base_model_name_or_path=None, revision=None, task_type=None, inference_mode=False, r=8, target_modules={'query_key_value'}, lora_alpha=8, lora_dropout=0.0, fan_in_fan_out=False, bias='none', use_rslora=False, modules_to_save=['post_attention_layernorm'], init_lora_weights=True, layers_to_transform=None, layers_pattern=None, rank_pattern={}, alpha_pattern={}, megatron_config=None, megatron_core='megatron.core', loftq_config={}, use_dora=False, layer_replication=None)"
      ]
     },
     "execution_count": 12,
     "metadata": {},
     "output_type": "execute_result"
    }
   ],
   "source": [
    "from peft import LoraConfig, TaskType, get_peft_model, PeftModel\n",
    "\n",
    "config = LoraConfig(target_modules=[\"query_key_value\"], modules_to_save=[\"post_attention_layernorm\"])\n",
    "config"
   ]
  },
  {
   "cell_type": "markdown",
   "id": "53de8e02-00bd-413e-b65d-74bfac6277ff",
   "metadata": {},
   "source": [
    "# step2 创建模型"
   ]
  },
  {
   "cell_type": "code",
   "execution_count": 13,
   "id": "7e24550d-5446-4690-a30b-9fd261f6aeb9",
   "metadata": {},
   "outputs": [],
   "source": [
    "model = get_peft_model(model, config)"
   ]
  },
  {
   "cell_type": "code",
   "execution_count": 14,
   "id": "a6d050c1-b853-4333-9a22-3ade28d645c9",
   "metadata": {},
   "outputs": [
    {
     "data": {
      "text/plain": [
       "LoraConfig(peft_type=<PeftType.LORA: 'LORA'>, auto_mapping=None, base_model_name_or_path='./glm-4-9b-chat', revision=None, task_type=None, inference_mode=False, r=8, target_modules={'query_key_value'}, lora_alpha=8, lora_dropout=0.0, fan_in_fan_out=False, bias='none', use_rslora=False, modules_to_save=['post_attention_layernorm'], init_lora_weights=True, layers_to_transform=None, layers_pattern=None, rank_pattern={}, alpha_pattern={}, megatron_config=None, megatron_core='megatron.core', loftq_config={}, use_dora=False, layer_replication=None)"
      ]
     },
     "execution_count": 14,
     "metadata": {},
     "output_type": "execute_result"
    }
   ],
   "source": [
    "config"
   ]
  },
  {
   "cell_type": "code",
   "execution_count": 15,
   "id": "cd3e5ff8-15f6-4e39-9b04-4ab940b5bb86",
   "metadata": {},
   "outputs": [
    {
     "name": "stdout",
     "output_type": "stream",
     "text": [
      "base_model.model.transformer.embedding.word_embeddings.weight\n",
      "base_model.model.transformer.encoder.layers.0.input_layernorm.weight\n",
      "base_model.model.transformer.encoder.layers.0.self_attention.query_key_value.base_layer.weight\n",
      "base_model.model.transformer.encoder.layers.0.self_attention.query_key_value.base_layer.bias\n",
      "base_model.model.transformer.encoder.layers.0.self_attention.query_key_value.lora_A.default.weight\n",
      "base_model.model.transformer.encoder.layers.0.self_attention.query_key_value.lora_B.default.weight\n",
      "base_model.model.transformer.encoder.layers.0.self_attention.dense.weight\n",
      "base_model.model.transformer.encoder.layers.0.post_attention_layernorm.original_module.weight\n",
      "base_model.model.transformer.encoder.layers.0.post_attention_layernorm.modules_to_save.default.weight\n",
      "base_model.model.transformer.encoder.layers.0.mlp.dense_h_to_4h.weight\n",
      "base_model.model.transformer.encoder.layers.0.mlp.dense_4h_to_h.weight\n",
      "base_model.model.transformer.encoder.layers.1.input_layernorm.weight\n",
      "base_model.model.transformer.encoder.layers.1.self_attention.query_key_value.base_layer.weight\n",
      "base_model.model.transformer.encoder.layers.1.self_attention.query_key_value.base_layer.bias\n",
      "base_model.model.transformer.encoder.layers.1.self_attention.query_key_value.lora_A.default.weight\n",
      "base_model.model.transformer.encoder.layers.1.self_attention.query_key_value.lora_B.default.weight\n",
      "base_model.model.transformer.encoder.layers.1.self_attention.dense.weight\n",
      "base_model.model.transformer.encoder.layers.1.post_attention_layernorm.original_module.weight\n",
      "base_model.model.transformer.encoder.layers.1.post_attention_layernorm.modules_to_save.default.weight\n",
      "base_model.model.transformer.encoder.layers.1.mlp.dense_h_to_4h.weight\n",
      "base_model.model.transformer.encoder.layers.1.mlp.dense_4h_to_h.weight\n",
      "base_model.model.transformer.encoder.layers.2.input_layernorm.weight\n",
      "base_model.model.transformer.encoder.layers.2.self_attention.query_key_value.base_layer.weight\n",
      "base_model.model.transformer.encoder.layers.2.self_attention.query_key_value.base_layer.bias\n",
      "base_model.model.transformer.encoder.layers.2.self_attention.query_key_value.lora_A.default.weight\n",
      "base_model.model.transformer.encoder.layers.2.self_attention.query_key_value.lora_B.default.weight\n",
      "base_model.model.transformer.encoder.layers.2.self_attention.dense.weight\n",
      "base_model.model.transformer.encoder.layers.2.post_attention_layernorm.original_module.weight\n",
      "base_model.model.transformer.encoder.layers.2.post_attention_layernorm.modules_to_save.default.weight\n",
      "base_model.model.transformer.encoder.layers.2.mlp.dense_h_to_4h.weight\n",
      "base_model.model.transformer.encoder.layers.2.mlp.dense_4h_to_h.weight\n",
      "base_model.model.transformer.encoder.layers.3.input_layernorm.weight\n",
      "base_model.model.transformer.encoder.layers.3.self_attention.query_key_value.base_layer.weight\n",
      "base_model.model.transformer.encoder.layers.3.self_attention.query_key_value.base_layer.bias\n",
      "base_model.model.transformer.encoder.layers.3.self_attention.query_key_value.lora_A.default.weight\n",
      "base_model.model.transformer.encoder.layers.3.self_attention.query_key_value.lora_B.default.weight\n",
      "base_model.model.transformer.encoder.layers.3.self_attention.dense.weight\n",
      "base_model.model.transformer.encoder.layers.3.post_attention_layernorm.original_module.weight\n",
      "base_model.model.transformer.encoder.layers.3.post_attention_layernorm.modules_to_save.default.weight\n",
      "base_model.model.transformer.encoder.layers.3.mlp.dense_h_to_4h.weight\n",
      "base_model.model.transformer.encoder.layers.3.mlp.dense_4h_to_h.weight\n",
      "base_model.model.transformer.encoder.layers.4.input_layernorm.weight\n",
      "base_model.model.transformer.encoder.layers.4.self_attention.query_key_value.base_layer.weight\n",
      "base_model.model.transformer.encoder.layers.4.self_attention.query_key_value.base_layer.bias\n",
      "base_model.model.transformer.encoder.layers.4.self_attention.query_key_value.lora_A.default.weight\n",
      "base_model.model.transformer.encoder.layers.4.self_attention.query_key_value.lora_B.default.weight\n",
      "base_model.model.transformer.encoder.layers.4.self_attention.dense.weight\n",
      "base_model.model.transformer.encoder.layers.4.post_attention_layernorm.original_module.weight\n",
      "base_model.model.transformer.encoder.layers.4.post_attention_layernorm.modules_to_save.default.weight\n",
      "base_model.model.transformer.encoder.layers.4.mlp.dense_h_to_4h.weight\n",
      "base_model.model.transformer.encoder.layers.4.mlp.dense_4h_to_h.weight\n",
      "base_model.model.transformer.encoder.layers.5.input_layernorm.weight\n",
      "base_model.model.transformer.encoder.layers.5.self_attention.query_key_value.base_layer.weight\n",
      "base_model.model.transformer.encoder.layers.5.self_attention.query_key_value.base_layer.bias\n",
      "base_model.model.transformer.encoder.layers.5.self_attention.query_key_value.lora_A.default.weight\n",
      "base_model.model.transformer.encoder.layers.5.self_attention.query_key_value.lora_B.default.weight\n",
      "base_model.model.transformer.encoder.layers.5.self_attention.dense.weight\n",
      "base_model.model.transformer.encoder.layers.5.post_attention_layernorm.original_module.weight\n",
      "base_model.model.transformer.encoder.layers.5.post_attention_layernorm.modules_to_save.default.weight\n",
      "base_model.model.transformer.encoder.layers.5.mlp.dense_h_to_4h.weight\n",
      "base_model.model.transformer.encoder.layers.5.mlp.dense_4h_to_h.weight\n",
      "base_model.model.transformer.encoder.layers.6.input_layernorm.weight\n",
      "base_model.model.transformer.encoder.layers.6.self_attention.query_key_value.base_layer.weight\n",
      "base_model.model.transformer.encoder.layers.6.self_attention.query_key_value.base_layer.bias\n",
      "base_model.model.transformer.encoder.layers.6.self_attention.query_key_value.lora_A.default.weight\n",
      "base_model.model.transformer.encoder.layers.6.self_attention.query_key_value.lora_B.default.weight\n",
      "base_model.model.transformer.encoder.layers.6.self_attention.dense.weight\n",
      "base_model.model.transformer.encoder.layers.6.post_attention_layernorm.original_module.weight\n",
      "base_model.model.transformer.encoder.layers.6.post_attention_layernorm.modules_to_save.default.weight\n",
      "base_model.model.transformer.encoder.layers.6.mlp.dense_h_to_4h.weight\n",
      "base_model.model.transformer.encoder.layers.6.mlp.dense_4h_to_h.weight\n",
      "base_model.model.transformer.encoder.layers.7.input_layernorm.weight\n",
      "base_model.model.transformer.encoder.layers.7.self_attention.query_key_value.base_layer.weight\n",
      "base_model.model.transformer.encoder.layers.7.self_attention.query_key_value.base_layer.bias\n",
      "base_model.model.transformer.encoder.layers.7.self_attention.query_key_value.lora_A.default.weight\n",
      "base_model.model.transformer.encoder.layers.7.self_attention.query_key_value.lora_B.default.weight\n",
      "base_model.model.transformer.encoder.layers.7.self_attention.dense.weight\n",
      "base_model.model.transformer.encoder.layers.7.post_attention_layernorm.original_module.weight\n",
      "base_model.model.transformer.encoder.layers.7.post_attention_layernorm.modules_to_save.default.weight\n",
      "base_model.model.transformer.encoder.layers.7.mlp.dense_h_to_4h.weight\n",
      "base_model.model.transformer.encoder.layers.7.mlp.dense_4h_to_h.weight\n",
      "base_model.model.transformer.encoder.layers.8.input_layernorm.weight\n",
      "base_model.model.transformer.encoder.layers.8.self_attention.query_key_value.base_layer.weight\n",
      "base_model.model.transformer.encoder.layers.8.self_attention.query_key_value.base_layer.bias\n",
      "base_model.model.transformer.encoder.layers.8.self_attention.query_key_value.lora_A.default.weight\n",
      "base_model.model.transformer.encoder.layers.8.self_attention.query_key_value.lora_B.default.weight\n",
      "base_model.model.transformer.encoder.layers.8.self_attention.dense.weight\n",
      "base_model.model.transformer.encoder.layers.8.post_attention_layernorm.original_module.weight\n",
      "base_model.model.transformer.encoder.layers.8.post_attention_layernorm.modules_to_save.default.weight\n",
      "base_model.model.transformer.encoder.layers.8.mlp.dense_h_to_4h.weight\n",
      "base_model.model.transformer.encoder.layers.8.mlp.dense_4h_to_h.weight\n",
      "base_model.model.transformer.encoder.layers.9.input_layernorm.weight\n",
      "base_model.model.transformer.encoder.layers.9.self_attention.query_key_value.base_layer.weight\n",
      "base_model.model.transformer.encoder.layers.9.self_attention.query_key_value.base_layer.bias\n",
      "base_model.model.transformer.encoder.layers.9.self_attention.query_key_value.lora_A.default.weight\n",
      "base_model.model.transformer.encoder.layers.9.self_attention.query_key_value.lora_B.default.weight\n",
      "base_model.model.transformer.encoder.layers.9.self_attention.dense.weight\n",
      "base_model.model.transformer.encoder.layers.9.post_attention_layernorm.original_module.weight\n",
      "base_model.model.transformer.encoder.layers.9.post_attention_layernorm.modules_to_save.default.weight\n",
      "base_model.model.transformer.encoder.layers.9.mlp.dense_h_to_4h.weight\n",
      "base_model.model.transformer.encoder.layers.9.mlp.dense_4h_to_h.weight\n",
      "base_model.model.transformer.encoder.layers.10.input_layernorm.weight\n",
      "base_model.model.transformer.encoder.layers.10.self_attention.query_key_value.base_layer.weight\n",
      "base_model.model.transformer.encoder.layers.10.self_attention.query_key_value.base_layer.bias\n",
      "base_model.model.transformer.encoder.layers.10.self_attention.query_key_value.lora_A.default.weight\n",
      "base_model.model.transformer.encoder.layers.10.self_attention.query_key_value.lora_B.default.weight\n",
      "base_model.model.transformer.encoder.layers.10.self_attention.dense.weight\n",
      "base_model.model.transformer.encoder.layers.10.post_attention_layernorm.original_module.weight\n",
      "base_model.model.transformer.encoder.layers.10.post_attention_layernorm.modules_to_save.default.weight\n",
      "base_model.model.transformer.encoder.layers.10.mlp.dense_h_to_4h.weight\n",
      "base_model.model.transformer.encoder.layers.10.mlp.dense_4h_to_h.weight\n",
      "base_model.model.transformer.encoder.layers.11.input_layernorm.weight\n",
      "base_model.model.transformer.encoder.layers.11.self_attention.query_key_value.base_layer.weight\n",
      "base_model.model.transformer.encoder.layers.11.self_attention.query_key_value.base_layer.bias\n",
      "base_model.model.transformer.encoder.layers.11.self_attention.query_key_value.lora_A.default.weight\n",
      "base_model.model.transformer.encoder.layers.11.self_attention.query_key_value.lora_B.default.weight\n",
      "base_model.model.transformer.encoder.layers.11.self_attention.dense.weight\n",
      "base_model.model.transformer.encoder.layers.11.post_attention_layernorm.original_module.weight\n",
      "base_model.model.transformer.encoder.layers.11.post_attention_layernorm.modules_to_save.default.weight\n",
      "base_model.model.transformer.encoder.layers.11.mlp.dense_h_to_4h.weight\n",
      "base_model.model.transformer.encoder.layers.11.mlp.dense_4h_to_h.weight\n",
      "base_model.model.transformer.encoder.layers.12.input_layernorm.weight\n",
      "base_model.model.transformer.encoder.layers.12.self_attention.query_key_value.base_layer.weight\n",
      "base_model.model.transformer.encoder.layers.12.self_attention.query_key_value.base_layer.bias\n",
      "base_model.model.transformer.encoder.layers.12.self_attention.query_key_value.lora_A.default.weight\n",
      "base_model.model.transformer.encoder.layers.12.self_attention.query_key_value.lora_B.default.weight\n",
      "base_model.model.transformer.encoder.layers.12.self_attention.dense.weight\n",
      "base_model.model.transformer.encoder.layers.12.post_attention_layernorm.original_module.weight\n",
      "base_model.model.transformer.encoder.layers.12.post_attention_layernorm.modules_to_save.default.weight\n",
      "base_model.model.transformer.encoder.layers.12.mlp.dense_h_to_4h.weight\n",
      "base_model.model.transformer.encoder.layers.12.mlp.dense_4h_to_h.weight\n",
      "base_model.model.transformer.encoder.layers.13.input_layernorm.weight\n",
      "base_model.model.transformer.encoder.layers.13.self_attention.query_key_value.base_layer.weight\n",
      "base_model.model.transformer.encoder.layers.13.self_attention.query_key_value.base_layer.bias\n",
      "base_model.model.transformer.encoder.layers.13.self_attention.query_key_value.lora_A.default.weight\n",
      "base_model.model.transformer.encoder.layers.13.self_attention.query_key_value.lora_B.default.weight\n",
      "base_model.model.transformer.encoder.layers.13.self_attention.dense.weight\n",
      "base_model.model.transformer.encoder.layers.13.post_attention_layernorm.original_module.weight\n",
      "base_model.model.transformer.encoder.layers.13.post_attention_layernorm.modules_to_save.default.weight\n",
      "base_model.model.transformer.encoder.layers.13.mlp.dense_h_to_4h.weight\n",
      "base_model.model.transformer.encoder.layers.13.mlp.dense_4h_to_h.weight\n",
      "base_model.model.transformer.encoder.layers.14.input_layernorm.weight\n",
      "base_model.model.transformer.encoder.layers.14.self_attention.query_key_value.base_layer.weight\n",
      "base_model.model.transformer.encoder.layers.14.self_attention.query_key_value.base_layer.bias\n",
      "base_model.model.transformer.encoder.layers.14.self_attention.query_key_value.lora_A.default.weight\n",
      "base_model.model.transformer.encoder.layers.14.self_attention.query_key_value.lora_B.default.weight\n",
      "base_model.model.transformer.encoder.layers.14.self_attention.dense.weight\n",
      "base_model.model.transformer.encoder.layers.14.post_attention_layernorm.original_module.weight\n",
      "base_model.model.transformer.encoder.layers.14.post_attention_layernorm.modules_to_save.default.weight\n",
      "base_model.model.transformer.encoder.layers.14.mlp.dense_h_to_4h.weight\n",
      "base_model.model.transformer.encoder.layers.14.mlp.dense_4h_to_h.weight\n",
      "base_model.model.transformer.encoder.layers.15.input_layernorm.weight\n",
      "base_model.model.transformer.encoder.layers.15.self_attention.query_key_value.base_layer.weight\n",
      "base_model.model.transformer.encoder.layers.15.self_attention.query_key_value.base_layer.bias\n",
      "base_model.model.transformer.encoder.layers.15.self_attention.query_key_value.lora_A.default.weight\n",
      "base_model.model.transformer.encoder.layers.15.self_attention.query_key_value.lora_B.default.weight\n",
      "base_model.model.transformer.encoder.layers.15.self_attention.dense.weight\n",
      "base_model.model.transformer.encoder.layers.15.post_attention_layernorm.original_module.weight\n",
      "base_model.model.transformer.encoder.layers.15.post_attention_layernorm.modules_to_save.default.weight\n",
      "base_model.model.transformer.encoder.layers.15.mlp.dense_h_to_4h.weight\n",
      "base_model.model.transformer.encoder.layers.15.mlp.dense_4h_to_h.weight\n",
      "base_model.model.transformer.encoder.layers.16.input_layernorm.weight\n",
      "base_model.model.transformer.encoder.layers.16.self_attention.query_key_value.base_layer.weight\n",
      "base_model.model.transformer.encoder.layers.16.self_attention.query_key_value.base_layer.bias\n",
      "base_model.model.transformer.encoder.layers.16.self_attention.query_key_value.lora_A.default.weight\n",
      "base_model.model.transformer.encoder.layers.16.self_attention.query_key_value.lora_B.default.weight\n",
      "base_model.model.transformer.encoder.layers.16.self_attention.dense.weight\n",
      "base_model.model.transformer.encoder.layers.16.post_attention_layernorm.original_module.weight\n",
      "base_model.model.transformer.encoder.layers.16.post_attention_layernorm.modules_to_save.default.weight\n",
      "base_model.model.transformer.encoder.layers.16.mlp.dense_h_to_4h.weight\n",
      "base_model.model.transformer.encoder.layers.16.mlp.dense_4h_to_h.weight\n",
      "base_model.model.transformer.encoder.layers.17.input_layernorm.weight\n",
      "base_model.model.transformer.encoder.layers.17.self_attention.query_key_value.base_layer.weight\n",
      "base_model.model.transformer.encoder.layers.17.self_attention.query_key_value.base_layer.bias\n",
      "base_model.model.transformer.encoder.layers.17.self_attention.query_key_value.lora_A.default.weight\n",
      "base_model.model.transformer.encoder.layers.17.self_attention.query_key_value.lora_B.default.weight\n",
      "base_model.model.transformer.encoder.layers.17.self_attention.dense.weight\n",
      "base_model.model.transformer.encoder.layers.17.post_attention_layernorm.original_module.weight\n",
      "base_model.model.transformer.encoder.layers.17.post_attention_layernorm.modules_to_save.default.weight\n",
      "base_model.model.transformer.encoder.layers.17.mlp.dense_h_to_4h.weight\n",
      "base_model.model.transformer.encoder.layers.17.mlp.dense_4h_to_h.weight\n",
      "base_model.model.transformer.encoder.layers.18.input_layernorm.weight\n",
      "base_model.model.transformer.encoder.layers.18.self_attention.query_key_value.base_layer.weight\n",
      "base_model.model.transformer.encoder.layers.18.self_attention.query_key_value.base_layer.bias\n",
      "base_model.model.transformer.encoder.layers.18.self_attention.query_key_value.lora_A.default.weight\n",
      "base_model.model.transformer.encoder.layers.18.self_attention.query_key_value.lora_B.default.weight\n",
      "base_model.model.transformer.encoder.layers.18.self_attention.dense.weight\n",
      "base_model.model.transformer.encoder.layers.18.post_attention_layernorm.original_module.weight\n",
      "base_model.model.transformer.encoder.layers.18.post_attention_layernorm.modules_to_save.default.weight\n",
      "base_model.model.transformer.encoder.layers.18.mlp.dense_h_to_4h.weight\n",
      "base_model.model.transformer.encoder.layers.18.mlp.dense_4h_to_h.weight\n",
      "base_model.model.transformer.encoder.layers.19.input_layernorm.weight\n",
      "base_model.model.transformer.encoder.layers.19.self_attention.query_key_value.base_layer.weight\n",
      "base_model.model.transformer.encoder.layers.19.self_attention.query_key_value.base_layer.bias\n",
      "base_model.model.transformer.encoder.layers.19.self_attention.query_key_value.lora_A.default.weight\n",
      "base_model.model.transformer.encoder.layers.19.self_attention.query_key_value.lora_B.default.weight\n",
      "base_model.model.transformer.encoder.layers.19.self_attention.dense.weight\n",
      "base_model.model.transformer.encoder.layers.19.post_attention_layernorm.original_module.weight\n",
      "base_model.model.transformer.encoder.layers.19.post_attention_layernorm.modules_to_save.default.weight\n",
      "base_model.model.transformer.encoder.layers.19.mlp.dense_h_to_4h.weight\n",
      "base_model.model.transformer.encoder.layers.19.mlp.dense_4h_to_h.weight\n",
      "base_model.model.transformer.encoder.layers.20.input_layernorm.weight\n",
      "base_model.model.transformer.encoder.layers.20.self_attention.query_key_value.base_layer.weight\n",
      "base_model.model.transformer.encoder.layers.20.self_attention.query_key_value.base_layer.bias\n",
      "base_model.model.transformer.encoder.layers.20.self_attention.query_key_value.lora_A.default.weight\n",
      "base_model.model.transformer.encoder.layers.20.self_attention.query_key_value.lora_B.default.weight\n",
      "base_model.model.transformer.encoder.layers.20.self_attention.dense.weight\n",
      "base_model.model.transformer.encoder.layers.20.post_attention_layernorm.original_module.weight\n",
      "base_model.model.transformer.encoder.layers.20.post_attention_layernorm.modules_to_save.default.weight\n",
      "base_model.model.transformer.encoder.layers.20.mlp.dense_h_to_4h.weight\n",
      "base_model.model.transformer.encoder.layers.20.mlp.dense_4h_to_h.weight\n",
      "base_model.model.transformer.encoder.layers.21.input_layernorm.weight\n",
      "base_model.model.transformer.encoder.layers.21.self_attention.query_key_value.base_layer.weight\n",
      "base_model.model.transformer.encoder.layers.21.self_attention.query_key_value.base_layer.bias\n",
      "base_model.model.transformer.encoder.layers.21.self_attention.query_key_value.lora_A.default.weight\n",
      "base_model.model.transformer.encoder.layers.21.self_attention.query_key_value.lora_B.default.weight\n",
      "base_model.model.transformer.encoder.layers.21.self_attention.dense.weight\n",
      "base_model.model.transformer.encoder.layers.21.post_attention_layernorm.original_module.weight\n",
      "base_model.model.transformer.encoder.layers.21.post_attention_layernorm.modules_to_save.default.weight\n",
      "base_model.model.transformer.encoder.layers.21.mlp.dense_h_to_4h.weight\n",
      "base_model.model.transformer.encoder.layers.21.mlp.dense_4h_to_h.weight\n",
      "base_model.model.transformer.encoder.layers.22.input_layernorm.weight\n",
      "base_model.model.transformer.encoder.layers.22.self_attention.query_key_value.base_layer.weight\n",
      "base_model.model.transformer.encoder.layers.22.self_attention.query_key_value.base_layer.bias\n",
      "base_model.model.transformer.encoder.layers.22.self_attention.query_key_value.lora_A.default.weight\n",
      "base_model.model.transformer.encoder.layers.22.self_attention.query_key_value.lora_B.default.weight\n",
      "base_model.model.transformer.encoder.layers.22.self_attention.dense.weight\n",
      "base_model.model.transformer.encoder.layers.22.post_attention_layernorm.original_module.weight\n",
      "base_model.model.transformer.encoder.layers.22.post_attention_layernorm.modules_to_save.default.weight\n",
      "base_model.model.transformer.encoder.layers.22.mlp.dense_h_to_4h.weight\n",
      "base_model.model.transformer.encoder.layers.22.mlp.dense_4h_to_h.weight\n",
      "base_model.model.transformer.encoder.layers.23.input_layernorm.weight\n",
      "base_model.model.transformer.encoder.layers.23.self_attention.query_key_value.base_layer.weight\n",
      "base_model.model.transformer.encoder.layers.23.self_attention.query_key_value.base_layer.bias\n",
      "base_model.model.transformer.encoder.layers.23.self_attention.query_key_value.lora_A.default.weight\n",
      "base_model.model.transformer.encoder.layers.23.self_attention.query_key_value.lora_B.default.weight\n",
      "base_model.model.transformer.encoder.layers.23.self_attention.dense.weight\n",
      "base_model.model.transformer.encoder.layers.23.post_attention_layernorm.original_module.weight\n",
      "base_model.model.transformer.encoder.layers.23.post_attention_layernorm.modules_to_save.default.weight\n",
      "base_model.model.transformer.encoder.layers.23.mlp.dense_h_to_4h.weight\n",
      "base_model.model.transformer.encoder.layers.23.mlp.dense_4h_to_h.weight\n",
      "base_model.model.transformer.encoder.layers.24.input_layernorm.weight\n",
      "base_model.model.transformer.encoder.layers.24.self_attention.query_key_value.base_layer.weight\n",
      "base_model.model.transformer.encoder.layers.24.self_attention.query_key_value.base_layer.bias\n",
      "base_model.model.transformer.encoder.layers.24.self_attention.query_key_value.lora_A.default.weight\n",
      "base_model.model.transformer.encoder.layers.24.self_attention.query_key_value.lora_B.default.weight\n",
      "base_model.model.transformer.encoder.layers.24.self_attention.dense.weight\n",
      "base_model.model.transformer.encoder.layers.24.post_attention_layernorm.original_module.weight\n",
      "base_model.model.transformer.encoder.layers.24.post_attention_layernorm.modules_to_save.default.weight\n",
      "base_model.model.transformer.encoder.layers.24.mlp.dense_h_to_4h.weight\n",
      "base_model.model.transformer.encoder.layers.24.mlp.dense_4h_to_h.weight\n",
      "base_model.model.transformer.encoder.layers.25.input_layernorm.weight\n",
      "base_model.model.transformer.encoder.layers.25.self_attention.query_key_value.base_layer.weight\n",
      "base_model.model.transformer.encoder.layers.25.self_attention.query_key_value.base_layer.bias\n",
      "base_model.model.transformer.encoder.layers.25.self_attention.query_key_value.lora_A.default.weight\n",
      "base_model.model.transformer.encoder.layers.25.self_attention.query_key_value.lora_B.default.weight\n",
      "base_model.model.transformer.encoder.layers.25.self_attention.dense.weight\n",
      "base_model.model.transformer.encoder.layers.25.post_attention_layernorm.original_module.weight\n",
      "base_model.model.transformer.encoder.layers.25.post_attention_layernorm.modules_to_save.default.weight\n",
      "base_model.model.transformer.encoder.layers.25.mlp.dense_h_to_4h.weight\n",
      "base_model.model.transformer.encoder.layers.25.mlp.dense_4h_to_h.weight\n",
      "base_model.model.transformer.encoder.layers.26.input_layernorm.weight\n",
      "base_model.model.transformer.encoder.layers.26.self_attention.query_key_value.base_layer.weight\n",
      "base_model.model.transformer.encoder.layers.26.self_attention.query_key_value.base_layer.bias\n",
      "base_model.model.transformer.encoder.layers.26.self_attention.query_key_value.lora_A.default.weight\n",
      "base_model.model.transformer.encoder.layers.26.self_attention.query_key_value.lora_B.default.weight\n",
      "base_model.model.transformer.encoder.layers.26.self_attention.dense.weight\n",
      "base_model.model.transformer.encoder.layers.26.post_attention_layernorm.original_module.weight\n",
      "base_model.model.transformer.encoder.layers.26.post_attention_layernorm.modules_to_save.default.weight\n",
      "base_model.model.transformer.encoder.layers.26.mlp.dense_h_to_4h.weight\n",
      "base_model.model.transformer.encoder.layers.26.mlp.dense_4h_to_h.weight\n",
      "base_model.model.transformer.encoder.layers.27.input_layernorm.weight\n",
      "base_model.model.transformer.encoder.layers.27.self_attention.query_key_value.base_layer.weight\n",
      "base_model.model.transformer.encoder.layers.27.self_attention.query_key_value.base_layer.bias\n",
      "base_model.model.transformer.encoder.layers.27.self_attention.query_key_value.lora_A.default.weight\n",
      "base_model.model.transformer.encoder.layers.27.self_attention.query_key_value.lora_B.default.weight\n",
      "base_model.model.transformer.encoder.layers.27.self_attention.dense.weight\n",
      "base_model.model.transformer.encoder.layers.27.post_attention_layernorm.original_module.weight\n",
      "base_model.model.transformer.encoder.layers.27.post_attention_layernorm.modules_to_save.default.weight\n",
      "base_model.model.transformer.encoder.layers.27.mlp.dense_h_to_4h.weight\n",
      "base_model.model.transformer.encoder.layers.27.mlp.dense_4h_to_h.weight\n",
      "base_model.model.transformer.encoder.layers.28.input_layernorm.weight\n",
      "base_model.model.transformer.encoder.layers.28.self_attention.query_key_value.base_layer.weight\n",
      "base_model.model.transformer.encoder.layers.28.self_attention.query_key_value.base_layer.bias\n",
      "base_model.model.transformer.encoder.layers.28.self_attention.query_key_value.lora_A.default.weight\n",
      "base_model.model.transformer.encoder.layers.28.self_attention.query_key_value.lora_B.default.weight\n",
      "base_model.model.transformer.encoder.layers.28.self_attention.dense.weight\n",
      "base_model.model.transformer.encoder.layers.28.post_attention_layernorm.original_module.weight\n",
      "base_model.model.transformer.encoder.layers.28.post_attention_layernorm.modules_to_save.default.weight\n",
      "base_model.model.transformer.encoder.layers.28.mlp.dense_h_to_4h.weight\n",
      "base_model.model.transformer.encoder.layers.28.mlp.dense_4h_to_h.weight\n",
      "base_model.model.transformer.encoder.layers.29.input_layernorm.weight\n",
      "base_model.model.transformer.encoder.layers.29.self_attention.query_key_value.base_layer.weight\n",
      "base_model.model.transformer.encoder.layers.29.self_attention.query_key_value.base_layer.bias\n",
      "base_model.model.transformer.encoder.layers.29.self_attention.query_key_value.lora_A.default.weight\n",
      "base_model.model.transformer.encoder.layers.29.self_attention.query_key_value.lora_B.default.weight\n",
      "base_model.model.transformer.encoder.layers.29.self_attention.dense.weight\n",
      "base_model.model.transformer.encoder.layers.29.post_attention_layernorm.original_module.weight\n",
      "base_model.model.transformer.encoder.layers.29.post_attention_layernorm.modules_to_save.default.weight\n",
      "base_model.model.transformer.encoder.layers.29.mlp.dense_h_to_4h.weight\n",
      "base_model.model.transformer.encoder.layers.29.mlp.dense_4h_to_h.weight\n",
      "base_model.model.transformer.encoder.layers.30.input_layernorm.weight\n",
      "base_model.model.transformer.encoder.layers.30.self_attention.query_key_value.base_layer.weight\n",
      "base_model.model.transformer.encoder.layers.30.self_attention.query_key_value.base_layer.bias\n",
      "base_model.model.transformer.encoder.layers.30.self_attention.query_key_value.lora_A.default.weight\n",
      "base_model.model.transformer.encoder.layers.30.self_attention.query_key_value.lora_B.default.weight\n",
      "base_model.model.transformer.encoder.layers.30.self_attention.dense.weight\n",
      "base_model.model.transformer.encoder.layers.30.post_attention_layernorm.original_module.weight\n",
      "base_model.model.transformer.encoder.layers.30.post_attention_layernorm.modules_to_save.default.weight\n",
      "base_model.model.transformer.encoder.layers.30.mlp.dense_h_to_4h.weight\n",
      "base_model.model.transformer.encoder.layers.30.mlp.dense_4h_to_h.weight\n",
      "base_model.model.transformer.encoder.layers.31.input_layernorm.weight\n",
      "base_model.model.transformer.encoder.layers.31.self_attention.query_key_value.base_layer.weight\n",
      "base_model.model.transformer.encoder.layers.31.self_attention.query_key_value.base_layer.bias\n",
      "base_model.model.transformer.encoder.layers.31.self_attention.query_key_value.lora_A.default.weight\n",
      "base_model.model.transformer.encoder.layers.31.self_attention.query_key_value.lora_B.default.weight\n",
      "base_model.model.transformer.encoder.layers.31.self_attention.dense.weight\n",
      "base_model.model.transformer.encoder.layers.31.post_attention_layernorm.original_module.weight\n",
      "base_model.model.transformer.encoder.layers.31.post_attention_layernorm.modules_to_save.default.weight\n",
      "base_model.model.transformer.encoder.layers.31.mlp.dense_h_to_4h.weight\n",
      "base_model.model.transformer.encoder.layers.31.mlp.dense_4h_to_h.weight\n",
      "base_model.model.transformer.encoder.layers.32.input_layernorm.weight\n",
      "base_model.model.transformer.encoder.layers.32.self_attention.query_key_value.base_layer.weight\n",
      "base_model.model.transformer.encoder.layers.32.self_attention.query_key_value.base_layer.bias\n",
      "base_model.model.transformer.encoder.layers.32.self_attention.query_key_value.lora_A.default.weight\n",
      "base_model.model.transformer.encoder.layers.32.self_attention.query_key_value.lora_B.default.weight\n",
      "base_model.model.transformer.encoder.layers.32.self_attention.dense.weight\n",
      "base_model.model.transformer.encoder.layers.32.post_attention_layernorm.original_module.weight\n",
      "base_model.model.transformer.encoder.layers.32.post_attention_layernorm.modules_to_save.default.weight\n",
      "base_model.model.transformer.encoder.layers.32.mlp.dense_h_to_4h.weight\n",
      "base_model.model.transformer.encoder.layers.32.mlp.dense_4h_to_h.weight\n",
      "base_model.model.transformer.encoder.layers.33.input_layernorm.weight\n",
      "base_model.model.transformer.encoder.layers.33.self_attention.query_key_value.base_layer.weight\n",
      "base_model.model.transformer.encoder.layers.33.self_attention.query_key_value.base_layer.bias\n",
      "base_model.model.transformer.encoder.layers.33.self_attention.query_key_value.lora_A.default.weight\n",
      "base_model.model.transformer.encoder.layers.33.self_attention.query_key_value.lora_B.default.weight\n",
      "base_model.model.transformer.encoder.layers.33.self_attention.dense.weight\n",
      "base_model.model.transformer.encoder.layers.33.post_attention_layernorm.original_module.weight\n",
      "base_model.model.transformer.encoder.layers.33.post_attention_layernorm.modules_to_save.default.weight\n",
      "base_model.model.transformer.encoder.layers.33.mlp.dense_h_to_4h.weight\n",
      "base_model.model.transformer.encoder.layers.33.mlp.dense_4h_to_h.weight\n",
      "base_model.model.transformer.encoder.layers.34.input_layernorm.weight\n",
      "base_model.model.transformer.encoder.layers.34.self_attention.query_key_value.base_layer.weight\n",
      "base_model.model.transformer.encoder.layers.34.self_attention.query_key_value.base_layer.bias\n",
      "base_model.model.transformer.encoder.layers.34.self_attention.query_key_value.lora_A.default.weight\n",
      "base_model.model.transformer.encoder.layers.34.self_attention.query_key_value.lora_B.default.weight\n",
      "base_model.model.transformer.encoder.layers.34.self_attention.dense.weight\n",
      "base_model.model.transformer.encoder.layers.34.post_attention_layernorm.original_module.weight\n",
      "base_model.model.transformer.encoder.layers.34.post_attention_layernorm.modules_to_save.default.weight\n",
      "base_model.model.transformer.encoder.layers.34.mlp.dense_h_to_4h.weight\n",
      "base_model.model.transformer.encoder.layers.34.mlp.dense_4h_to_h.weight\n",
      "base_model.model.transformer.encoder.layers.35.input_layernorm.weight\n",
      "base_model.model.transformer.encoder.layers.35.self_attention.query_key_value.base_layer.weight\n",
      "base_model.model.transformer.encoder.layers.35.self_attention.query_key_value.base_layer.bias\n",
      "base_model.model.transformer.encoder.layers.35.self_attention.query_key_value.lora_A.default.weight\n",
      "base_model.model.transformer.encoder.layers.35.self_attention.query_key_value.lora_B.default.weight\n",
      "base_model.model.transformer.encoder.layers.35.self_attention.dense.weight\n",
      "base_model.model.transformer.encoder.layers.35.post_attention_layernorm.original_module.weight\n",
      "base_model.model.transformer.encoder.layers.35.post_attention_layernorm.modules_to_save.default.weight\n",
      "base_model.model.transformer.encoder.layers.35.mlp.dense_h_to_4h.weight\n",
      "base_model.model.transformer.encoder.layers.35.mlp.dense_4h_to_h.weight\n",
      "base_model.model.transformer.encoder.layers.36.input_layernorm.weight\n",
      "base_model.model.transformer.encoder.layers.36.self_attention.query_key_value.base_layer.weight\n",
      "base_model.model.transformer.encoder.layers.36.self_attention.query_key_value.base_layer.bias\n",
      "base_model.model.transformer.encoder.layers.36.self_attention.query_key_value.lora_A.default.weight\n",
      "base_model.model.transformer.encoder.layers.36.self_attention.query_key_value.lora_B.default.weight\n",
      "base_model.model.transformer.encoder.layers.36.self_attention.dense.weight\n",
      "base_model.model.transformer.encoder.layers.36.post_attention_layernorm.original_module.weight\n",
      "base_model.model.transformer.encoder.layers.36.post_attention_layernorm.modules_to_save.default.weight\n",
      "base_model.model.transformer.encoder.layers.36.mlp.dense_h_to_4h.weight\n",
      "base_model.model.transformer.encoder.layers.36.mlp.dense_4h_to_h.weight\n",
      "base_model.model.transformer.encoder.layers.37.input_layernorm.weight\n",
      "base_model.model.transformer.encoder.layers.37.self_attention.query_key_value.base_layer.weight\n",
      "base_model.model.transformer.encoder.layers.37.self_attention.query_key_value.base_layer.bias\n",
      "base_model.model.transformer.encoder.layers.37.self_attention.query_key_value.lora_A.default.weight\n",
      "base_model.model.transformer.encoder.layers.37.self_attention.query_key_value.lora_B.default.weight\n",
      "base_model.model.transformer.encoder.layers.37.self_attention.dense.weight\n",
      "base_model.model.transformer.encoder.layers.37.post_attention_layernorm.original_module.weight\n",
      "base_model.model.transformer.encoder.layers.37.post_attention_layernorm.modules_to_save.default.weight\n",
      "base_model.model.transformer.encoder.layers.37.mlp.dense_h_to_4h.weight\n",
      "base_model.model.transformer.encoder.layers.37.mlp.dense_4h_to_h.weight\n",
      "base_model.model.transformer.encoder.layers.38.input_layernorm.weight\n",
      "base_model.model.transformer.encoder.layers.38.self_attention.query_key_value.base_layer.weight\n",
      "base_model.model.transformer.encoder.layers.38.self_attention.query_key_value.base_layer.bias\n",
      "base_model.model.transformer.encoder.layers.38.self_attention.query_key_value.lora_A.default.weight\n",
      "base_model.model.transformer.encoder.layers.38.self_attention.query_key_value.lora_B.default.weight\n",
      "base_model.model.transformer.encoder.layers.38.self_attention.dense.weight\n",
      "base_model.model.transformer.encoder.layers.38.post_attention_layernorm.original_module.weight\n",
      "base_model.model.transformer.encoder.layers.38.post_attention_layernorm.modules_to_save.default.weight\n",
      "base_model.model.transformer.encoder.layers.38.mlp.dense_h_to_4h.weight\n",
      "base_model.model.transformer.encoder.layers.38.mlp.dense_4h_to_h.weight\n",
      "base_model.model.transformer.encoder.layers.39.input_layernorm.weight\n",
      "base_model.model.transformer.encoder.layers.39.self_attention.query_key_value.base_layer.weight\n",
      "base_model.model.transformer.encoder.layers.39.self_attention.query_key_value.base_layer.bias\n",
      "base_model.model.transformer.encoder.layers.39.self_attention.query_key_value.lora_A.default.weight\n",
      "base_model.model.transformer.encoder.layers.39.self_attention.query_key_value.lora_B.default.weight\n",
      "base_model.model.transformer.encoder.layers.39.self_attention.dense.weight\n",
      "base_model.model.transformer.encoder.layers.39.post_attention_layernorm.original_module.weight\n",
      "base_model.model.transformer.encoder.layers.39.post_attention_layernorm.modules_to_save.default.weight\n",
      "base_model.model.transformer.encoder.layers.39.mlp.dense_h_to_4h.weight\n",
      "base_model.model.transformer.encoder.layers.39.mlp.dense_4h_to_h.weight\n",
      "base_model.model.transformer.encoder.final_layernorm.weight\n",
      "base_model.model.transformer.output_layer.weight\n"
     ]
    }
   ],
   "source": [
    "for name, parameter in model.named_parameters():\n",
    "    print(name)"
   ]
  },
  {
   "cell_type": "code",
   "execution_count": 16,
   "id": "5497016a-edb0-468d-bdb3-4bc54fbd80db",
   "metadata": {},
   "outputs": [
    {
     "name": "stdout",
     "output_type": "stream",
     "text": [
      "trainable params: 2,949,120 || all params: 9,402,900,480 || trainable%: 0.0314\n"
     ]
    }
   ],
   "source": [
    "model.print_trainable_parameters()"
   ]
  },
  {
   "cell_type": "code",
   "execution_count": 17,
   "id": "dfb7fa82-538d-4ee5-ac7c-24c606ff9a18",
   "metadata": {},
   "outputs": [
    {
     "data": {
      "text/plain": [
       "PeftModel(\n",
       "  (base_model): LoraModel(\n",
       "    (model): ChatGLMForConditionalGeneration(\n",
       "      (transformer): ChatGLMModel(\n",
       "        (embedding): Embedding(\n",
       "          (word_embeddings): Embedding(151552, 4096)\n",
       "        )\n",
       "        (rotary_pos_emb): RotaryEmbedding()\n",
       "        (encoder): GLMTransformer(\n",
       "          (layers): ModuleList(\n",
       "            (0-39): 40 x GLMBlock(\n",
       "              (input_layernorm): RMSNorm()\n",
       "              (self_attention): SelfAttention(\n",
       "                (query_key_value): lora.Linear(\n",
       "                  (base_layer): Linear(in_features=4096, out_features=4608, bias=True)\n",
       "                  (lora_dropout): ModuleDict(\n",
       "                    (default): Identity()\n",
       "                  )\n",
       "                  (lora_A): ModuleDict(\n",
       "                    (default): Linear(in_features=4096, out_features=8, bias=False)\n",
       "                  )\n",
       "                  (lora_B): ModuleDict(\n",
       "                    (default): Linear(in_features=8, out_features=4608, bias=False)\n",
       "                  )\n",
       "                  (lora_embedding_A): ParameterDict()\n",
       "                  (lora_embedding_B): ParameterDict()\n",
       "                )\n",
       "                (core_attention): CoreAttention(\n",
       "                  (attention_dropout): Dropout(p=0.0, inplace=False)\n",
       "                )\n",
       "                (dense): Linear(in_features=4096, out_features=4096, bias=False)\n",
       "              )\n",
       "              (post_attention_layernorm): ModulesToSaveWrapper(\n",
       "                (original_module): RMSNorm()\n",
       "                (modules_to_save): ModuleDict(\n",
       "                  (default): RMSNorm()\n",
       "                )\n",
       "              )\n",
       "              (mlp): MLP(\n",
       "                (dense_h_to_4h): Linear(in_features=4096, out_features=27392, bias=False)\n",
       "                (dense_4h_to_h): Linear(in_features=13696, out_features=4096, bias=False)\n",
       "              )\n",
       "            )\n",
       "          )\n",
       "          (final_layernorm): RMSNorm()\n",
       "        )\n",
       "        (output_layer): Linear(in_features=4096, out_features=151552, bias=False)\n",
       "      )\n",
       "    )\n",
       "  )\n",
       ")"
      ]
     },
     "execution_count": 17,
     "metadata": {},
     "output_type": "execute_result"
    }
   ],
   "source": [
    "model"
   ]
  },
  {
   "cell_type": "markdown",
   "id": "d1a4b93f-5836-463b-9436-dcc2d95151e0",
   "metadata": {},
   "source": [
    "# 配置训练参数"
   ]
  },
  {
   "cell_type": "code",
   "execution_count": 18,
   "id": "cbcec4b1-6bd3-46be-96a3-35a7a3e40791",
   "metadata": {},
   "outputs": [],
   "source": [
    "args = TrainingArguments(\n",
    "    output_dir=\"./chatbot\",\n",
    "    per_device_train_batch_size=2,\n",
    "    gradient_accumulation_steps=8,\n",
    "    gradient_checkpointing=True,\n",
    "    logging_steps=100,\n",
    "    num_train_epochs=10,\n",
    "    learning_rate=1e-4,\n",
    "    remove_unused_columns=False,\n",
    "    save_strategy=\"epoch\"\n",
    ")"
   ]
  },
  {
   "cell_type": "markdown",
   "id": "c346c77a-ab60-4915-ae37-de6453c6cdf2",
   "metadata": {},
   "source": [
    "# 创建训练器"
   ]
  },
  {
   "cell_type": "code",
   "execution_count": 19,
   "id": "cbd07c9a-869e-4aea-b722-489cdd697b05",
   "metadata": {},
   "outputs": [
    {
     "name": "stderr",
     "output_type": "stream",
     "text": [
      "Detected kernel version 5.4.0, which is below the recommended minimum of 5.5.0; this can cause the process to hang. It is recommended to upgrade the kernel to the minimum version or higher.\n"
     ]
    }
   ],
   "source": [
    "trainer = Trainer(\n",
    "    model=model,\n",
    "    args=args,\n",
    "    train_dataset=tokenized_ds.select(range(10000)),\n",
    "    data_collator=DataCollatorForSeq2Seq(tokenizer=tokenizer, padding=True),\n",
    ")"
   ]
  },
  {
   "cell_type": "markdown",
   "id": "d54891f8-0a31-4382-ae33-da50a049ab68",
   "metadata": {},
   "source": [
    "# 模型训练"
   ]
  },
  {
   "cell_type": "code",
   "execution_count": null,
   "id": "14658c9f-cb4f-4b70-ae2f-284bfa1da2b1",
   "metadata": {},
   "outputs": [],
   "source": [
    "trainer.train()"
   ]
  },
  {
   "cell_type": "code",
   "execution_count": null,
   "id": "c7964e49-b2ed-4d82-a931-90c9b00fffbc",
   "metadata": {},
   "outputs": [],
   "source": []
  }
 ],
 "metadata": {
  "kernelspec": {
   "display_name": "chatglm",
   "language": "python",
   "name": "chatglm"
  },
  "language_info": {
   "codemirror_mode": {
    "name": "ipython",
    "version": 3
   },
   "file_extension": ".py",
   "mimetype": "text/x-python",
   "name": "python",
   "nbconvert_exporter": "python",
   "pygments_lexer": "ipython3",
   "version": "3.10.14"
  }
 },
 "nbformat": 4,
 "nbformat_minor": 5
}
