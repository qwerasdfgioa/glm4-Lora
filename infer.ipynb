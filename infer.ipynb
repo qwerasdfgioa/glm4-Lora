{
 "cells": [
  {
   "cell_type": "code",
   "execution_count": 1,
   "id": "f9fa0fc7-b737-49dc-8794-6536dca087d0",
   "metadata": {},
   "outputs": [],
   "source": [
    "import torch\n",
    "from transformers import AutoModelForCausalLM, AutoTokenizer"
   ]
  },
  {
   "cell_type": "code",
   "execution_count": 2,
   "id": "a93a3b7b-ae42-4493-801f-4a3ca57215e0",
   "metadata": {},
   "outputs": [
    {
     "name": "stderr",
     "output_type": "stream",
     "text": [
      "Special tokens have been added in the vocabulary, make sure the associated word embeddings are fine-tuned or trained.\n"
     ]
    }
   ],
   "source": [
    "device = \"cuda\"\n",
    "tokenizer = AutoTokenizer.from_pretrained(\"./glm-4-9b-chat\",trust_remote_code=True)"
   ]
  },
  {
   "cell_type": "code",
   "execution_count": 3,
   "id": "57f7df59-8798-40b6-baa7-9e038d9b11ee",
   "metadata": {},
   "outputs": [
    {
     "data": {
      "application/vnd.jupyter.widget-view+json": {
       "model_id": "1db7705eac634660972de737231d2d4c",
       "version_major": 2,
       "version_minor": 0
      },
      "text/plain": [
       "Loading checkpoint shards:   0%|          | 0/10 [00:00<?, ?it/s]"
      ]
     },
     "metadata": {},
     "output_type": "display_data"
    }
   ],
   "source": [
    "model = AutoModelForCausalLM.from_pretrained(\n",
    "    \"./glm-4-9b-chat\",\n",
    "    torch_dtype=torch.bfloat16,\n",
    "    low_cpu_mem_usage=True,\n",
    "    trust_remote_code=True\n",
    ").to(device).eval()"
   ]
  },
  {
   "cell_type": "code",
   "execution_count": 4,
   "id": "68f2feb6-ad82-43dc-89f7-7e317ed212ae",
   "metadata": {},
   "outputs": [
    {
     "data": {
      "text/plain": [
       "('考试技巧对于提高考试成绩非常重要，以下是一些常见的考试技巧：\\n\\n1. **合理规划时间**：\\n   - 制定详细的学习计划，合理分配复习时间。\\n   - 考试前预留足够的时间进行模拟练习。\\n\\n2. **全面复习**：\\n   - 确保对所有考试内容都有所了解，避免因疏漏导致失分。\\n   - 针对难点和易错点进行重点复习。\\n\\n3. **掌握知识点**：\\n   - 理解并记住重要概念、公式、定理等。\\n   - 通过练习题巩固知识点。\\n\\n4. **做题技巧**：\\n   - 阅读题目时要仔细，避免因粗心大意而失分。\\n   - 遇到难题时，先尝试从已知条件出发，逐步推导。\\n   - 做题时注意时间分配，避免因某一道题耗时过长而影响整体成绩。\\n\\n5. **答题技巧**：\\n   - 答题时要条理清晰，层次分明。\\n   - 针对不同题型采取不同的答题策略。\\n   - 对于选择题，先排除明显错误的选项，再根据知识点进行选择。\\n\\n6. **心理调整**：\\n   - 考试前保持良好的心态，避免过度紧张。\\n   - 考试中遇到困难时，保持冷静，不要慌张。\\n\\n7. **健康作息**：\\n   - 考试前保持充足的睡眠，保证身体和精神状态良好。\\n   - 考试当天合理饮食，避免因身体不适影响考试。\\n\\n8. **临场发挥**：\\n   - 考试开始前快速浏览试卷，了解考试结构和题型。\\n   - 严格按照考试要求填写姓名、准考证号等信息。\\n\\n9. **总结反思**：\\n   - 考试结束后，总结经验教训，为下一次考试做好准备。\\n\\n通过以上技巧的运用，相信你的考试成绩会有所提高。祝你在考试中取得优异成绩！',\n",
       " [{'role': 'user', 'content': '考试的技巧有哪些？'},\n",
       "  {'role': 'assistant',\n",
       "   'metadata': '',\n",
       "   'content': '考试技巧对于提高考试成绩非常重要，以下是一些常见的考试技巧：\\n\\n1. **合理规划时间**：\\n   - 制定详细的学习计划，合理分配复习时间。\\n   - 考试前预留足够的时间进行模拟练习。\\n\\n2. **全面复习**：\\n   - 确保对所有考试内容都有所了解，避免因疏漏导致失分。\\n   - 针对难点和易错点进行重点复习。\\n\\n3. **掌握知识点**：\\n   - 理解并记住重要概念、公式、定理等。\\n   - 通过练习题巩固知识点。\\n\\n4. **做题技巧**：\\n   - 阅读题目时要仔细，避免因粗心大意而失分。\\n   - 遇到难题时，先尝试从已知条件出发，逐步推导。\\n   - 做题时注意时间分配，避免因某一道题耗时过长而影响整体成绩。\\n\\n5. **答题技巧**：\\n   - 答题时要条理清晰，层次分明。\\n   - 针对不同题型采取不同的答题策略。\\n   - 对于选择题，先排除明显错误的选项，再根据知识点进行选择。\\n\\n6. **心理调整**：\\n   - 考试前保持良好的心态，避免过度紧张。\\n   - 考试中遇到困难时，保持冷静，不要慌张。\\n\\n7. **健康作息**：\\n   - 考试前保持充足的睡眠，保证身体和精神状态良好。\\n   - 考试当天合理饮食，避免因身体不适影响考试。\\n\\n8. **临场发挥**：\\n   - 考试开始前快速浏览试卷，了解考试结构和题型。\\n   - 严格按照考试要求填写姓名、准考证号等信息。\\n\\n9. **总结反思**：\\n   - 考试结束后，总结经验教训，为下一次考试做好准备。\\n\\n通过以上技巧的运用，相信你的考试成绩会有所提高。祝你在考试中取得优异成绩！'}])"
      ]
     },
     "execution_count": 4,
     "metadata": {},
     "output_type": "execute_result"
    }
   ],
   "source": [
    "model.chat(tokenizer, \"考试的技巧有哪些？\", history=[])"
   ]
  },
  {
   "cell_type": "code",
   "execution_count": null,
   "id": "ae0540a0-fdef-4f94-8415-7729223fd28e",
   "metadata": {},
   "outputs": [],
   "source": [
    "?model.chat"
   ]
  },
  {
   "cell_type": "code",
   "execution_count": null,
   "id": "12b987f1-70d7-4c47-80d9-7bd4ada05bf9",
   "metadata": {},
   "outputs": [],
   "source": [
    "?tokenizer.apply_chat_template"
   ]
  },
  {
   "cell_type": "code",
   "execution_count": 5,
   "id": "6424e0a8-3ff3-460a-bf2c-57395d6e1bd7",
   "metadata": {},
   "outputs": [
    {
     "data": {
      "text/plain": [
       "{'input_ids': [151336], 'attention_mask': [1], 'position_ids': [0]}"
      ]
     },
     "execution_count": 5,
     "metadata": {},
     "output_type": "execute_result"
    }
   ],
   "source": [
    "tokenizer(\"<|user|>\", add_special_tokens=False)"
   ]
  },
  {
   "cell_type": "code",
   "execution_count": 13,
   "id": "b150a197-ebd8-49f2-b3b7-72dc29a4192d",
   "metadata": {},
   "outputs": [
    {
     "data": {
      "text/plain": [
       "{'input_ids': tensor([[151331, 151333, 151336,    198, 127219, 102093, 103399,  11314, 151337]]), 'attention_mask': tensor([[1, 1, 1, 1, 1, 1, 1, 1, 1]]), 'position_ids': tensor([[0, 1, 2, 3, 4, 5, 6, 7, 8]])}"
      ]
     },
     "execution_count": 13,
     "metadata": {},
     "output_type": "execute_result"
    }
   ],
   "source": [
    "tokenizer.apply_chat_template([{\"role\": \"user\", \"content\": \"考试的技巧有哪些？\"}],\n",
    "                                       add_generation_prompt=True,\n",
    "                                       tokenize=True,\n",
    "                                       return_tensors=\"pt\",\n",
    "                                       return_dict=True\n",
    "                                       )"
   ]
  },
  {
   "cell_type": "code",
   "execution_count": 14,
   "id": "b71e1a48-7f9b-4a52-a45c-77cead8029b4",
   "metadata": {},
   "outputs": [
    {
     "data": {
      "text/plain": [
       "'[gMASK] <sop> <|user|> \\n考试的技巧有哪些？ <|assistant|>'"
      ]
     },
     "execution_count": 14,
     "metadata": {},
     "output_type": "execute_result"
    }
   ],
   "source": [
    "tokenizer.decode([151331, 151333, 151336,    198, 127219, 102093, 103399,  11314, 151337])"
   ]
  },
  {
   "cell_type": "markdown",
   "id": "896579e3-e709-4e2b-927a-7ca97dea897a",
   "metadata": {},
   "source": [
    "'[gMASK] <sop> <|user|> \\n考试的技巧有哪些？ <|assistant|>'"
   ]
  },
  {
   "cell_type": "code",
   "execution_count": null,
   "id": "3080bccf-509f-4b9a-b47c-9d7c6fadcc94",
   "metadata": {},
   "outputs": [],
   "source": []
  }
 ],
 "metadata": {
  "kernelspec": {
   "display_name": "chatglm",
   "language": "python",
   "name": "chatglm"
  },
  "language_info": {
   "codemirror_mode": {
    "name": "ipython",
    "version": 3
   },
   "file_extension": ".py",
   "mimetype": "text/x-python",
   "name": "python",
   "nbconvert_exporter": "python",
   "pygments_lexer": "ipython3",
   "version": "3.10.14"
  }
 },
 "nbformat": 4,
 "nbformat_minor": 5
}
