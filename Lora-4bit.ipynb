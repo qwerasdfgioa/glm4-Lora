{
 "cells": [
  {
   "cell_type": "markdown",
   "id": "23cc2b59-3af1-443c-8ca3-32fc18db33ef",
   "metadata": {},
   "source": [
    "# 导包"
   ]
  },
  {
   "cell_type": "code",
   "execution_count": 7,
   "id": "642c25ed-a2a6-465a-9c16-6b5d9d797afe",
   "metadata": {},
   "outputs": [],
   "source": [
    "from datasets import Dataset, load_dataset\n",
    "from transformers import AutoTokenizer, AutoModelForCausalLM, DataCollatorForSeq2Seq, TrainingArguments, Trainer"
   ]
  },
  {
   "cell_type": "markdown",
   "id": "75f27563-bf3b-4d8e-985f-f672a7aeaad8",
   "metadata": {},
   "source": [
    "# 加载数据"
   ]
  },
  {
   "cell_type": "code",
   "execution_count": 8,
   "id": "25bb53c3-94f0-4d67-a6b6-ca22dcb5d921",
   "metadata": {},
   "outputs": [
    {
     "data": {
      "text/plain": [
       "Dataset({\n",
       "    features: ['id', 'question', 'answer'],\n",
       "    num_rows: 27320\n",
       "})"
      ]
     },
     "execution_count": 8,
     "metadata": {},
     "output_type": "execute_result"
    }
   ],
   "source": [
    "dataset = load_dataset(\"csv\", data_files=\"./问答.csv\", split=\"train\")\n",
    "dataset = dataset.filter(lambda x: x[\"answer\"] is not None)\n",
    "dataset"
   ]
  },
  {
   "cell_type": "code",
   "execution_count": 9,
   "id": "cb2bf7e3-720f-4734-a8cd-ea71432f360d",
   "metadata": {},
   "outputs": [
    {
     "data": {
      "text/plain": [
       "DatasetDict({\n",
       "    train: Dataset({\n",
       "        features: ['id', 'question', 'answer'],\n",
       "        num_rows: 24588\n",
       "    })\n",
       "    test: Dataset({\n",
       "        features: ['id', 'question', 'answer'],\n",
       "        num_rows: 2732\n",
       "    })\n",
       "})"
      ]
     },
     "execution_count": 9,
     "metadata": {},
     "output_type": "execute_result"
    }
   ],
   "source": [
    "datasets = dataset.train_test_split(test_size=0.1)\n",
    "datasets"
   ]
  },
  {
   "cell_type": "code",
   "execution_count": 10,
   "id": "4ddad307-107c-466f-9e93-01025f45fc79",
   "metadata": {},
   "outputs": [
    {
     "data": {
      "text/plain": [
       "{'id': [21351, 11919],\n",
       " 'question': ['治疗胃溃疡用什么药物最好。  ', '局灶节段硬化型（IGA）肾炎  '],\n",
       " 'answer': ['胃溃疡可以检查幽门螺杆菌情况，如果是幽门螺杆菌引起的胃溃疡，唾液乳杆菌+植物乳杆菌组合是杀灭幽门螺杆菌的有效方式。',\n",
       "  '您好，从您母亲的肾穿刺报告结果可以判断，大约40%左右的肾小球处于硬化期，会逐渐完全失去功能；大约60%的处于病变的早期，积极治疗是可以恢复的。现在的检查结果不是很理想，可能是没有得到很好的治疗。 治疗方法：建议选择中西医结合治疗，主要是调节机体免疫平衡，清除免疫复合物，修复肾小球损伤，增强抵抗力。具体方法有中药汤药，中成药胶囊，肠免疫平衡液输液，中药外治，针灸，药浴等多种治疗方法相结合，临床治疗效果相对比较好。另外可以增强抵抗力，减少上呼吸道感染的机会，以减少疾病复发的次数.']}"
      ]
     },
     "execution_count": 10,
     "metadata": {},
     "output_type": "execute_result"
    }
   ],
   "source": [
    "datasets['train'][:2]"
   ]
  },
  {
   "cell_type": "markdown",
   "id": "560d3afb-86bf-437e-97a3-c7decbfdabcb",
   "metadata": {},
   "source": [
    "# 数据集预处理"
   ]
  },
  {
   "cell_type": "code",
   "execution_count": 11,
   "id": "119d48ad-f04e-42d6-ad22-c891639fd26b",
   "metadata": {},
   "outputs": [
    {
     "name": "stderr",
     "output_type": "stream",
     "text": [
      "Special tokens have been added in the vocabulary, make sure the associated word embeddings are fine-tuned or trained.\n"
     ]
    },
    {
     "data": {
      "text/plain": [
       "ChatGLM4Tokenizer(name_or_path='./glm-4-9b-chat', vocab_size=151329, model_max_length=128000, is_fast=False, padding_side='left', truncation_side='right', special_tokens={'eos_token': '<|endoftext|>', 'pad_token': '<|endoftext|>', 'additional_special_tokens': ['<|endoftext|>', '[MASK]', '[gMASK]', '[sMASK]', '<sop>', '<eop>', '<|system|>', '<|user|>', '<|assistant|>', '<|observation|>', '<|begin_of_image|>', '<|end_of_image|>', '<|begin_of_video|>', '<|end_of_video|>']}, clean_up_tokenization_spaces=False),  added_tokens_decoder={\n",
       "\t151329: AddedToken(\"<|endoftext|>\", rstrip=False, lstrip=False, single_word=False, normalized=False, special=True),\n",
       "\t151330: AddedToken(\"[MASK]\", rstrip=False, lstrip=False, single_word=False, normalized=False, special=True),\n",
       "\t151331: AddedToken(\"[gMASK]\", rstrip=False, lstrip=False, single_word=False, normalized=False, special=True),\n",
       "\t151332: AddedToken(\"[sMASK]\", rstrip=False, lstrip=False, single_word=False, normalized=False, special=True),\n",
       "\t151333: AddedToken(\"<sop>\", rstrip=False, lstrip=False, single_word=False, normalized=False, special=True),\n",
       "\t151334: AddedToken(\"<eop>\", rstrip=False, lstrip=False, single_word=False, normalized=False, special=True),\n",
       "\t151335: AddedToken(\"<|system|>\", rstrip=False, lstrip=False, single_word=False, normalized=False, special=True),\n",
       "\t151336: AddedToken(\"<|user|>\", rstrip=False, lstrip=False, single_word=False, normalized=False, special=True),\n",
       "\t151337: AddedToken(\"<|assistant|>\", rstrip=False, lstrip=False, single_word=False, normalized=False, special=True),\n",
       "\t151338: AddedToken(\"<|observation|>\", rstrip=False, lstrip=False, single_word=False, normalized=False, special=True),\n",
       "\t151339: AddedToken(\"<|begin_of_image|>\", rstrip=False, lstrip=False, single_word=False, normalized=False, special=True),\n",
       "\t151340: AddedToken(\"<|end_of_image|>\", rstrip=False, lstrip=False, single_word=False, normalized=False, special=True),\n",
       "\t151341: AddedToken(\"<|begin_of_video|>\", rstrip=False, lstrip=False, single_word=False, normalized=False, special=True),\n",
       "\t151342: AddedToken(\"<|end_of_video|>\", rstrip=False, lstrip=False, single_word=False, normalized=False, special=True),\n",
       "}"
      ]
     },
     "execution_count": 11,
     "metadata": {},
     "output_type": "execute_result"
    }
   ],
   "source": [
    "tokenizer = AutoTokenizer.from_pretrained(\"./glm-4-9b-chat\", trust_remote_code=True)\n",
    "tokenizer"
   ]
  },
  {
   "cell_type": "code",
   "execution_count": 12,
   "id": "53aca134-6a2b-4ae1-a6ba-a4556e0c272a",
   "metadata": {},
   "outputs": [],
   "source": [
    "def process_func(example):\n",
    "    MAX_LENGTH = 768\n",
    "    input_ids, attention_mask, labels = [], [], []\n",
    "    instruction = example[\"question\"].strip()     # query\n",
    "    instruction = tokenizer.apply_chat_template([{\"role\": \"user\", \"content\": instruction}],\n",
    "                                       add_generation_prompt=True,\n",
    "                                       tokenize=True,\n",
    "                                       return_tensors=\"pt\",\n",
    "                                       return_dict=True\n",
    "                                       )      # '[gMASK] <sop> <|user|> \\nquery <|assistant|>'\n",
    "    \n",
    "    response = tokenizer(\"\\n\" + example[\"answer\"], add_special_tokens=False)        # \\n response, 缺少eos token\n",
    "    input_ids = instruction[\"input_ids\"][0].numpy().tolist() + response[\"input_ids\"] + [tokenizer.eos_token_id]\n",
    "    attention_mask = instruction[\"attention_mask\"][0].numpy().tolist() + response[\"attention_mask\"] + [1]\n",
    "    labels = [-100] * len(instruction[\"input_ids\"][0].numpy().tolist()) + response[\"input_ids\"] + [tokenizer.eos_token_id]\n",
    "    if len(input_ids) > MAX_LENGTH:\n",
    "        input_ids = input_ids[:MAX_LENGTH]\n",
    "        attention_mask = attention_mask[:MAX_LENGTH]\n",
    "        labels = labels[:MAX_LENGTH]\n",
    "    return {\n",
    "        \"input_ids\": input_ids,\n",
    "        \"attention_mask\": attention_mask,\n",
    "        \"labels\": labels\n",
    "    }"
   ]
  },
  {
   "cell_type": "code",
   "execution_count": 13,
   "id": "8e790211-8da9-4d06-bfe8-e89d3329f700",
   "metadata": {},
   "outputs": [
    {
     "data": {
      "application/vnd.jupyter.widget-view+json": {
       "model_id": "0fdd47dc27e2437b99f83383e2a153ed",
       "version_major": 2,
       "version_minor": 0
      },
      "text/plain": [
       "Map:   0%|          | 0/24588 [00:00<?, ? examples/s]"
      ]
     },
     "metadata": {},
     "output_type": "display_data"
    },
    {
     "data": {
      "application/vnd.jupyter.widget-view+json": {
       "model_id": "cb693e27e6da44488662dc114dbfffd0",
       "version_major": 2,
       "version_minor": 0
      },
      "text/plain": [
       "Map:   0%|          | 0/2732 [00:00<?, ? examples/s]"
      ]
     },
     "metadata": {},
     "output_type": "display_data"
    },
    {
     "data": {
      "text/plain": [
       "Dataset({\n",
       "    features: ['input_ids', 'attention_mask', 'labels'],\n",
       "    num_rows: 24588\n",
       "})"
      ]
     },
     "execution_count": 13,
     "metadata": {},
     "output_type": "execute_result"
    }
   ],
   "source": [
    "tokenized_ds = datasets['train'].map(process_func, remove_columns=['id', 'question', 'answer'])\n",
    "tokenized_ts = datasets['test'].map(process_func, remove_columns=['id', 'question', 'answer'])\n",
    "tokenized_ds"
   ]
  },
  {
   "cell_type": "code",
   "execution_count": 14,
   "id": "a157470b-b31a-4c04-8f09-a5ab997b90a4",
   "metadata": {},
   "outputs": [
    {
     "data": {
      "text/plain": [
       "'[gMASK] <sop> <|user|> \\n局灶节段硬化型（IGA）肾炎 <|assistant|> \\n您好，从您母亲的肾穿刺报告结果可以判断，大约40%左右的肾小球处于硬化期，会逐渐完全失去功能；大约60%的处于病变的早期，积极治疗是可以恢复的。现在的检查结果不是很理想，可能是没有得到很好的治疗。 治疗方法：建议选择中西医结合治疗，主要是调节机体免疫平衡，清除免疫复合物，修复肾小球损伤，增强抵抗力。具体方法有中药汤药，中成药胶囊，肠免疫平衡液输液，中药外治，针灸，药浴等多种治疗方法相结合，临床治疗效果相对比较好。另外可以增强抵抗力，减少上呼吸道感染的机会，以减少疾病复发的次数. <|endoftext|>'"
      ]
     },
     "execution_count": 14,
     "metadata": {},
     "output_type": "execute_result"
    }
   ],
   "source": [
    "tokenizer.decode(tokenized_ds[1][\"input_ids\"])"
   ]
  },
  {
   "cell_type": "code",
   "execution_count": 15,
   "id": "22362351-3e69-460c-bbb3-c57fbf03d5ea",
   "metadata": {},
   "outputs": [
    {
     "data": {
      "text/plain": [
       "'\\n您好，从您母亲的肾穿刺报告结果可以判断，大约40%左右的肾小球处于硬化期，会逐渐完全失去功能；大约60%的处于病变的早期，积极治疗是可以恢复的。现在的检查结果不是很理想，可能是没有得到很好的治疗。 治疗方法：建议选择中西医结合治疗，主要是调节机体免疫平衡，清除免疫复合物，修复肾小球损伤，增强抵抗力。具体方法有中药汤药，中成药胶囊，肠免疫平衡液输液，中药外治，针灸，药浴等多种治疗方法相结合，临床治疗效果相对比较好。另外可以增强抵抗力，减少上呼吸道感染的机会，以减少疾病复发的次数. <|endoftext|>'"
      ]
     },
     "execution_count": 15,
     "metadata": {},
     "output_type": "execute_result"
    }
   ],
   "source": [
    "tokenizer.decode(list(filter(lambda x: x != -100, tokenized_ds[1][\"labels\"])))"
   ]
  },
  {
   "cell_type": "markdown",
   "id": "0fad1333-229a-43fc-a0ee-5f9ef27776ee",
   "metadata": {},
   "source": [
    "# 创建模型"
   ]
  },
  {
   "cell_type": "code",
   "execution_count": 16,
   "id": "2bc85f85-4611-47a5-af51-d9337b968968",
   "metadata": {},
   "outputs": [
    {
     "name": "stderr",
     "output_type": "stream",
     "text": [
      "The `load_in_4bit` and `load_in_8bit` arguments are deprecated and will be removed in the future versions. Please, pass a `BitsAndBytesConfig` object in `quantization_config` argument instead.\n"
     ]
    },
    {
     "data": {
      "application/vnd.jupyter.widget-view+json": {
       "model_id": "b956c17c4b664f40b64e9893c80f79f9",
       "version_major": 2,
       "version_minor": 0
      },
      "text/plain": [
       "Loading checkpoint shards:   0%|          | 0/10 [00:00<?, ?it/s]"
      ]
     },
     "metadata": {},
     "output_type": "display_data"
    }
   ],
   "source": [
    "import torch\n",
    "model = AutoModelForCausalLM.from_pretrained(\"./glm-4-9b-chat\", trust_remote_code=True, low_cpu_mem_usage=True, device_map=\"auto\",\n",
    "                                             load_in_4bit=True, \n",
    "                                             bnb_4bit_quant_type=\"nf4\",\n",
    "                                             bnb_4bit_compute_dtype=torch.bfloat16)"
   ]
  },
  {
   "cell_type": "code",
   "execution_count": null,
   "id": "3887f830-0134-432b-a255-02c238b581fa",
   "metadata": {},
   "outputs": [],
   "source": [
    "# for name, param in model.named_parameters():\n",
    " #    print(name)"
   ]
  },
  {
   "cell_type": "markdown",
   "id": "26665cd9-3f34-491d-83fd-94ecb565d414",
   "metadata": {},
   "source": [
    "# Lora "
   ]
  },
  {
   "cell_type": "markdown",
   "id": "065ec2d6-02bd-45b2-a4f2-7b94d185af6d",
   "metadata": {},
   "source": [
    "# step1 配置文件"
   ]
  },
  {
   "cell_type": "code",
   "execution_count": 17,
   "id": "b2972f9e-b996-4c7a-a240-edaa4b16559e",
   "metadata": {},
   "outputs": [
    {
     "data": {
      "text/plain": [
       "LoraConfig(peft_type=<PeftType.LORA: 'LORA'>, auto_mapping=None, base_model_name_or_path=None, revision=None, task_type=None, inference_mode=False, r=8, target_modules={'query_key_value'}, lora_alpha=8, lora_dropout=0.0, fan_in_fan_out=False, bias='none', use_rslora=False, modules_to_save=['post_attention_layernorm'], init_lora_weights=True, layers_to_transform=None, layers_pattern=None, rank_pattern={}, alpha_pattern={}, megatron_config=None, megatron_core='megatron.core', loftq_config={}, use_dora=False, layer_replication=None)"
      ]
     },
     "execution_count": 17,
     "metadata": {},
     "output_type": "execute_result"
    }
   ],
   "source": [
    "from peft import LoraConfig, TaskType, get_peft_model, PeftModel\n",
    "\n",
    "config = LoraConfig(target_modules=[\"query_key_value\"], modules_to_save=[\"post_attention_layernorm\"])\n",
    "config"
   ]
  },
  {
   "cell_type": "markdown",
   "id": "53de8e02-00bd-413e-b65d-74bfac6277ff",
   "metadata": {},
   "source": [
    "# step2 创建模型"
   ]
  },
  {
   "cell_type": "code",
   "execution_count": 18,
   "id": "7e24550d-5446-4690-a30b-9fd261f6aeb9",
   "metadata": {},
   "outputs": [],
   "source": [
    "model = get_peft_model(model, config)"
   ]
  },
  {
   "cell_type": "code",
   "execution_count": 19,
   "id": "a6d050c1-b853-4333-9a22-3ade28d645c9",
   "metadata": {},
   "outputs": [
    {
     "data": {
      "text/plain": [
       "LoraConfig(peft_type=<PeftType.LORA: 'LORA'>, auto_mapping=None, base_model_name_or_path='./glm-4-9b-chat', revision=None, task_type=None, inference_mode=False, r=8, target_modules={'query_key_value'}, lora_alpha=8, lora_dropout=0.0, fan_in_fan_out=False, bias='none', use_rslora=False, modules_to_save=['post_attention_layernorm'], init_lora_weights=True, layers_to_transform=None, layers_pattern=None, rank_pattern={}, alpha_pattern={}, megatron_config=None, megatron_core='megatron.core', loftq_config={}, use_dora=False, layer_replication=None)"
      ]
     },
     "execution_count": 19,
     "metadata": {},
     "output_type": "execute_result"
    }
   ],
   "source": [
    "config"
   ]
  },
  {
   "cell_type": "code",
   "execution_count": null,
   "id": "cd3e5ff8-15f6-4e39-9b04-4ab940b5bb86",
   "metadata": {},
   "outputs": [],
   "source": [
    "# for name, parameter in model.named_parameters():\n",
    "  #  print(name)"
   ]
  },
  {
   "cell_type": "code",
   "execution_count": 20,
   "id": "5497016a-edb0-468d-bdb3-4bc54fbd80db",
   "metadata": {},
   "outputs": [
    {
     "name": "stdout",
     "output_type": "stream",
     "text": [
      "trainable params: 2,949,120 || all params: 9,402,900,480 || trainable%: 0.0314\n"
     ]
    }
   ],
   "source": [
    "model.print_trainable_parameters()"
   ]
  },
  {
   "cell_type": "code",
   "execution_count": 21,
   "id": "dfb7fa82-538d-4ee5-ac7c-24c606ff9a18",
   "metadata": {},
   "outputs": [
    {
     "data": {
      "text/plain": [
       "PeftModel(\n",
       "  (base_model): LoraModel(\n",
       "    (model): ChatGLMForConditionalGeneration(\n",
       "      (transformer): ChatGLMModel(\n",
       "        (embedding): Embedding(\n",
       "          (word_embeddings): Embedding(151552, 4096)\n",
       "        )\n",
       "        (rotary_pos_emb): RotaryEmbedding()\n",
       "        (encoder): GLMTransformer(\n",
       "          (layers): ModuleList(\n",
       "            (0-39): 40 x GLMBlock(\n",
       "              (input_layernorm): RMSNorm()\n",
       "              (self_attention): SelfAttention(\n",
       "                (query_key_value): lora.Linear4bit(\n",
       "                  (base_layer): Linear4bit(in_features=4096, out_features=4608, bias=True)\n",
       "                  (lora_dropout): ModuleDict(\n",
       "                    (default): Identity()\n",
       "                  )\n",
       "                  (lora_A): ModuleDict(\n",
       "                    (default): Linear(in_features=4096, out_features=8, bias=False)\n",
       "                  )\n",
       "                  (lora_B): ModuleDict(\n",
       "                    (default): Linear(in_features=8, out_features=4608, bias=False)\n",
       "                  )\n",
       "                  (lora_embedding_A): ParameterDict()\n",
       "                  (lora_embedding_B): ParameterDict()\n",
       "                )\n",
       "                (core_attention): CoreAttention(\n",
       "                  (attention_dropout): Dropout(p=0.0, inplace=False)\n",
       "                )\n",
       "                (dense): Linear4bit(in_features=4096, out_features=4096, bias=False)\n",
       "              )\n",
       "              (post_attention_layernorm): ModulesToSaveWrapper(\n",
       "                (original_module): RMSNorm()\n",
       "                (modules_to_save): ModuleDict(\n",
       "                  (default): RMSNorm()\n",
       "                )\n",
       "              )\n",
       "              (mlp): MLP(\n",
       "                (dense_h_to_4h): Linear4bit(in_features=4096, out_features=27392, bias=False)\n",
       "                (dense_4h_to_h): Linear4bit(in_features=13696, out_features=4096, bias=False)\n",
       "              )\n",
       "            )\n",
       "          )\n",
       "          (final_layernorm): RMSNorm()\n",
       "        )\n",
       "        (output_layer): Linear(in_features=4096, out_features=151552, bias=False)\n",
       "      )\n",
       "    )\n",
       "  )\n",
       ")"
      ]
     },
     "execution_count": 21,
     "metadata": {},
     "output_type": "execute_result"
    }
   ],
   "source": [
    "model"
   ]
  },
  {
   "cell_type": "markdown",
   "id": "d1a4b93f-5836-463b-9436-dcc2d95151e0",
   "metadata": {},
   "source": [
    "# 配置训练参数"
   ]
  },
  {
   "cell_type": "code",
   "execution_count": 22,
   "id": "cbcec4b1-6bd3-46be-96a3-35a7a3e40791",
   "metadata": {},
   "outputs": [],
   "source": [
    "args = TrainingArguments(\n",
    "    output_dir=\"./chatbot\",\n",
    "    per_device_train_batch_size=1,\n",
    "    gradient_accumulation_steps=16,\n",
    "    gradient_checkpointing=True,\n",
    "    logging_steps=100,\n",
    "    num_train_epochs=10,\n",
    "    learning_rate=1e-4,\n",
    "    remove_unused_columns=False,\n",
    "    save_strategy=\"epoch\"\n",
    ")"
   ]
  },
  {
   "cell_type": "markdown",
   "id": "c346c77a-ab60-4915-ae37-de6453c6cdf2",
   "metadata": {},
   "source": [
    "# 创建训练器"
   ]
  },
  {
   "cell_type": "code",
   "execution_count": 23,
   "id": "cbd07c9a-869e-4aea-b722-489cdd697b05",
   "metadata": {},
   "outputs": [
    {
     "name": "stderr",
     "output_type": "stream",
     "text": [
      "Detected kernel version 5.4.0, which is below the recommended minimum of 5.5.0; this can cause the process to hang. It is recommended to upgrade the kernel to the minimum version or higher.\n"
     ]
    }
   ],
   "source": [
    "trainer = Trainer(\n",
    "    model=model,\n",
    "    args=args,\n",
    "    train_dataset=tokenized_ds.select(range(10000)),\n",
    "    data_collator=DataCollatorForSeq2Seq(tokenizer=tokenizer, padding=True),\n",
    ")"
   ]
  },
  {
   "cell_type": "markdown",
   "id": "d54891f8-0a31-4382-ae33-da50a049ab68",
   "metadata": {},
   "source": [
    "# 模型训练"
   ]
  },
  {
   "cell_type": "code",
   "execution_count": null,
   "id": "14658c9f-cb4f-4b70-ae2f-284bfa1da2b1",
   "metadata": {},
   "outputs": [
    {
     "data": {
      "text/html": [
       "\n",
       "    <div>\n",
       "      \n",
       "      <progress value='2099' max='6250' style='width:300px; height:20px; vertical-align: middle;'></progress>\n",
       "      [2099/6250 3:42:18 < 7:20:04, 0.16 it/s, Epoch 3.36/10]\n",
       "    </div>\n",
       "    <table border=\"1\" class=\"dataframe\">\n",
       "  <thead>\n",
       " <tr style=\"text-align: left;\">\n",
       "      <th>Step</th>\n",
       "      <th>Training Loss</th>\n",
       "    </tr>\n",
       "  </thead>\n",
       "  <tbody>\n",
       "    <tr>\n",
       "      <td>100</td>\n",
       "      <td>3.004600</td>\n",
       "    </tr>\n",
       "    <tr>\n",
       "      <td>200</td>\n",
       "      <td>2.675600</td>\n",
       "    </tr>\n",
       "    <tr>\n",
       "      <td>300</td>\n",
       "      <td>2.689100</td>\n",
       "    </tr>\n",
       "    <tr>\n",
       "      <td>400</td>\n",
       "      <td>2.654200</td>\n",
       "    </tr>\n",
       "    <tr>\n",
       "      <td>500</td>\n",
       "      <td>2.628500</td>\n",
       "    </tr>\n",
       "    <tr>\n",
       "      <td>600</td>\n",
       "      <td>2.667600</td>\n",
       "    </tr>\n",
       "    <tr>\n",
       "      <td>700</td>\n",
       "      <td>2.621400</td>\n",
       "    </tr>\n",
       "    <tr>\n",
       "      <td>800</td>\n",
       "      <td>2.631700</td>\n",
       "    </tr>\n",
       "    <tr>\n",
       "      <td>900</td>\n",
       "      <td>2.571500</td>\n",
       "    </tr>\n",
       "    <tr>\n",
       "      <td>1000</td>\n",
       "      <td>2.589900</td>\n",
       "    </tr>\n",
       "    <tr>\n",
       "      <td>1100</td>\n",
       "      <td>2.676500</td>\n",
       "    </tr>\n",
       "    <tr>\n",
       "      <td>1200</td>\n",
       "      <td>2.585100</td>\n",
       "    </tr>\n",
       "    <tr>\n",
       "      <td>1300</td>\n",
       "      <td>2.554700</td>\n",
       "    </tr>\n",
       "    <tr>\n",
       "      <td>1400</td>\n",
       "      <td>2.587500</td>\n",
       "    </tr>\n",
       "    <tr>\n",
       "      <td>1500</td>\n",
       "      <td>2.558400</td>\n",
       "    </tr>\n",
       "    <tr>\n",
       "      <td>1600</td>\n",
       "      <td>2.575000</td>\n",
       "    </tr>\n",
       "    <tr>\n",
       "      <td>1700</td>\n",
       "      <td>2.620100</td>\n",
       "    </tr>\n",
       "    <tr>\n",
       "      <td>1800</td>\n",
       "      <td>2.592700</td>\n",
       "    </tr>\n",
       "    <tr>\n",
       "      <td>1900</td>\n",
       "      <td>2.546200</td>\n",
       "    </tr>\n",
       "    <tr>\n",
       "      <td>2000</td>\n",
       "      <td>2.525300</td>\n",
       "    </tr>\n",
       "  </tbody>\n",
       "</table><p>"
      ],
      "text/plain": [
       "<IPython.core.display.HTML object>"
      ]
     },
     "metadata": {},
     "output_type": "display_data"
    },
    {
     "name": "stderr",
     "output_type": "stream",
     "text": [
      "/root/miniconda3/envs/chatglm/lib/python3.10/site-packages/peft/utils/save_and_load.py:195: UserWarning: Could not find a config file in ./glm-4-9b-chat - will assume that the vocabulary was not modified.\n",
      "  warnings.warn(\n",
      "/root/miniconda3/envs/chatglm/lib/python3.10/site-packages/peft/utils/save_and_load.py:195: UserWarning: Could not find a config file in ./glm-4-9b-chat - will assume that the vocabulary was not modified.\n",
      "  warnings.warn(\n",
      "/root/miniconda3/envs/chatglm/lib/python3.10/site-packages/peft/utils/save_and_load.py:195: UserWarning: Could not find a config file in ./glm-4-9b-chat - will assume that the vocabulary was not modified.\n",
      "  warnings.warn(\n"
     ]
    }
   ],
   "source": [
    "trainer.train()"
   ]
  },
  {
   "cell_type": "code",
   "execution_count": 24,
   "id": "c7964e49-b2ed-4d82-a931-90c9b00fffbc",
   "metadata": {},
   "outputs": [
    {
     "name": "stdout",
     "output_type": "stream",
     "text": [
      "base_model.model.transformer.encoder.layers.0.post_attention_layernorm.weight\n",
      "tensor([0.1963, 0.1953, 0.1963,  ..., 0.1982, 0.1953, 0.1973],\n",
      "       dtype=torch.bfloat16)\n"
     ]
    }
   ],
   "source": [
    "from safetensors import safe_open\n",
    "\n",
    "with safe_open(\"./chatbot/checkpoint-1875/adapter_model.safetensors\", framework=\"pt\") as f:\n",
    "    for key in f.keys():\n",
    "        if \".0.post_attention_layernorm\" in key:\n",
    "            print(key)\n",
    "            print(f.get_tensor(key))"
   ]
  },
  {
   "cell_type": "code",
   "execution_count": 26,
   "id": "9080a68e-4f62-473a-8510-d07a0ae11f89",
   "metadata": {},
   "outputs": [
    {
     "name": "stdout",
     "output_type": "stream",
     "text": [
      "治疗胃溃疡通常需要综合治疗，包括药物治疗、饮食调整、生活习惯的改善等。以下是一些常用的药物：\n",
      "\n",
      "1. **质子泵抑制剂（PPIs）**：这类药物可以显著减少胃酸分泌，是治疗胃溃疡的首选药物。常用的PPIs包括奥美拉唑、兰索拉唑、雷贝拉唑等。\n",
      "\n",
      "2. **H2受体拮抗剂**：这类药物可以减少胃酸分泌，常用的有雷尼替丁、西咪替丁等。\n",
      "\n",
      "3. **胃黏膜保护剂**：如硫糖铝、磷酸铝等，可以保护胃黏膜，促进溃疡愈合。\n",
      "\n",
      "4. **抗生素**：如果胃溃疡是由幽门螺杆菌感染引起的，通常需要联合使用抗生素进行治疗，常用的抗生素有克拉霉素、阿莫西林、甲硝唑等。\n",
      "\n",
      "5. **胃动力药**：如多潘立酮、莫沙必利等，可以促进胃排空，减轻胃部不适。\n",
      "\n",
      "具体使用哪种药物，需要根据患者的具体情况和医生的诊断来确定。在治疗过程中，患者应遵医嘱，按时按量服药，并在治疗结束后进行必要的复查。同时，注意以下几点：\n",
      "\n",
      "- 保持良好的饮食习惯，避免辛辣、油腻、过冷过热等刺激性食物。\n",
      "- 避免吸烟、饮酒等不良生活习惯。\n",
      "- 保持良好的心态，适当进行体育锻炼。\n",
      "\n",
      "如果症状持续或加重，应及时就医。\n"
     ]
    }
   ],
   "source": [
    "model.eval()\n",
    "print(model.chat(tokenizer, \"治疗胃溃疡用什么药物最好。\", history=[])[0])"
   ]
  },
  {
   "cell_type": "code",
   "execution_count": null,
   "id": "9a5e31b9-5440-4a64-a970-5cc8e54be57a",
   "metadata": {},
   "outputs": [],
   "source": []
  },
  {
   "cell_type": "code",
   "execution_count": null,
   "id": "196f0f66-a217-4c19-8a3d-8499b40c2b63",
   "metadata": {},
   "outputs": [],
   "source": []
  }
 ],
 "metadata": {
  "kernelspec": {
   "display_name": "chatglm",
   "language": "python",
   "name": "chatglm"
  },
  "language_info": {
   "codemirror_mode": {
    "name": "ipython",
    "version": 3
   },
   "file_extension": ".py",
   "mimetype": "text/x-python",
   "name": "python",
   "nbconvert_exporter": "python",
   "pygments_lexer": "ipython3",
   "version": "3.10.14"
  }
 },
 "nbformat": 4,
 "nbformat_minor": 5
}
